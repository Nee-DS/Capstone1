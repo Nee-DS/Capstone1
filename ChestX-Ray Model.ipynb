{
 "cells": [
  {
   "cell_type": "code",
   "execution_count": null,
   "metadata": {},
   "outputs": [],
   "source": [
    "#take a view of some sample images\n",
    "#Nate: I have created 2 folders  marked as 'cardiomegaly_img' and 'normal_img'. The nest step is to randomly select 3 \n",
    "#from the folder and print.I am following the link \"https://github.com/abhinavsagar/Kaggle-Solutions/blob/master/Chest_X-Ray.ipynb\"\n",
    "# but it seems there is a \"val\" folder too. I images are not correct, the cardiomegaly image is marked as Normal.\n",
    "\n",
    "input_path = '/Users/neeharikasinha/Documents/datascience-course/Chestxray-cardiomegaly_final/'\n",
    "\n",
    "fig = plt.subplots(2, 3, figsize=(15, 7))\n",
    "plt.tight_layout()\n",
    "\n",
    "for i, _set in enumerate(['normal_img', 'cardiomegaly_img']):\n",
    "    set_path = input_path+_set\n",
    "    ax[i].imshow(plt.imread(set_path+'/'+os.listdir(set_path+'/')[0]), cmap='gray')\n",
    "    ax[i].set_title('Set: {}, Condition: Normal'.format(_set))\n",
    "    ax[i+3].imshow(plt.imread(set_path+'/'+os.listdir(set_path+'/')[0]), cmap='gray')\n",
    "    ax[i+3].set_title('Set: {}, Condition: Pneumonia'.format(_set))\n",
    "\n",
    "images = [cv2.imread(file) for file in glob.glob(\"/content/drive/My Drive/Colab Notebooks/normal_img/*.png\")]\n",
    "for i,img in enumerate(images):\n",
    "  print (i)\n",
    "  if i<=1:\n",
    "    plt.imshow(img)\n",
    "    plt.show()\n",
    "  else: \n",
    "    break  "
   ]
  }
 ],
 "metadata": {
  "kernelspec": {
   "display_name": "Python 3",
   "language": "python",
   "name": "python3"
  },
  "language_info": {
   "codemirror_mode": {
    "name": "ipython",
    "version": 3
   },
   "file_extension": ".py",
   "mimetype": "text/x-python",
   "name": "python",
   "nbconvert_exporter": "python",
   "pygments_lexer": "ipython3",
   "version": "3.7.6"
  }
 },
 "nbformat": 4,
 "nbformat_minor": 4
}
