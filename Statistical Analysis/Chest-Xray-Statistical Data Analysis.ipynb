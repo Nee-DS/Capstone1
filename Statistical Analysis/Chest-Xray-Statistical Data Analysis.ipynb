{
 "cells": [
  {
   "cell_type": "markdown",
   "metadata": {},
   "source": [
    "This part we can analyse how many satistical significant data do we have for analysis. \n"
   ]
  },
  {
   "cell_type": "code",
   "execution_count": 1,
   "metadata": {},
   "outputs": [],
   "source": [
    "import numpy as np\n",
    "import pandas as pd \n",
    "import os\n",
    "import shutil\n",
    "import matplotlib.pyplot as plt\n"
   ]
  },
  {
   "cell_type": "code",
   "execution_count": 2,
   "metadata": {},
   "outputs": [],
   "source": [
    "# Create directory, if directory exists remove and create one \n",
    "\n",
    "def create_directory(directory_path):\n",
    "    if os.path.exists(directory_path):\n",
    "        shutil.rmtree(directory_path) \n",
    "        os.mkdir(directory_path)\n",
    "    else:\n",
    "        os.mkdir(directory_path)"
   ]
  },
  {
   "cell_type": "code",
   "execution_count": 3,
   "metadata": {},
   "outputs": [],
   "source": [
    "#moving files from one folder to other,     \n",
    "def move_allfiles (src,dst):\n",
    "    if os.path.exists(src):\n",
    "        files = os.listdir(src) \n",
    "        for f in files:\n",
    "            shutil.copyfile(src+f,dst+f)"
   ]
  },
  {
   "cell_type": "code",
   "execution_count": 4,
   "metadata": {},
   "outputs": [],
   "source": [
    "#moving list of files from one folder to other,\n",
    "def move_listfiles (src,dst,img_list):\n",
    "    if os.path.exists(src):\n",
    "        files = img_list\n",
    "        for f in files:\n",
    "            shutil.copyfile(src+f,dst+f)"
   ]
  },
  {
   "cell_type": "code",
   "execution_count": 5,
   "metadata": {},
   "outputs": [],
   "source": [
    "#reading the data\n",
    "df=pd.read_csv(\"Data_Entry_2017.csv\") "
   ]
  },
  {
   "cell_type": "code",
   "execution_count": 6,
   "metadata": {},
   "outputs": [],
   "source": [
    "#renaming the columns names\n",
    "df.rename(columns={'Image Index':'img_index','Finding Labels':'labels','Follow-up #':'follow_up','Patient ID':'pa_id',\n",
    "                   'Patient Age':'pa_age','Patient Gender':'pa_gender','View Position':'view_position'}, inplace=True)"
   ]
  },
  {
   "cell_type": "code",
   "execution_count": 7,
   "metadata": {},
   "outputs": [
    {
     "data": {
      "text/plain": [
       "Index(['img_index', 'labels', 'follow_up', 'pa_id', 'pa_age', 'pa_gender',\n",
       "       'view_position', 'OriginalImage[Width', 'Height]',\n",
       "       'OriginalImagePixelSpacing[x', 'y]'],\n",
       "      dtype='object')"
      ]
     },
     "execution_count": 7,
     "metadata": {},
     "output_type": "execute_result"
    }
   ],
   "source": [
    "df.columns"
   ]
  },
  {
   "cell_type": "code",
   "execution_count": 8,
   "metadata": {
    "scrolled": true
   },
   "outputs": [
    {
     "data": {
      "text/html": [
       "<div>\n",
       "<style scoped>\n",
       "    .dataframe tbody tr th:only-of-type {\n",
       "        vertical-align: middle;\n",
       "    }\n",
       "\n",
       "    .dataframe tbody tr th {\n",
       "        vertical-align: top;\n",
       "    }\n",
       "\n",
       "    .dataframe thead th {\n",
       "        text-align: right;\n",
       "    }\n",
       "</style>\n",
       "<table border=\"1\" class=\"dataframe\">\n",
       "  <thead>\n",
       "    <tr style=\"text-align: right;\">\n",
       "      <th></th>\n",
       "      <th>follow_up</th>\n",
       "      <th>pa_id</th>\n",
       "      <th>pa_age</th>\n",
       "      <th>OriginalImage[Width</th>\n",
       "      <th>Height]</th>\n",
       "      <th>OriginalImagePixelSpacing[x</th>\n",
       "      <th>y]</th>\n",
       "    </tr>\n",
       "  </thead>\n",
       "  <tbody>\n",
       "    <tr>\n",
       "      <th>count</th>\n",
       "      <td>112120.000000</td>\n",
       "      <td>112120.000000</td>\n",
       "      <td>112120.000000</td>\n",
       "      <td>112120.000000</td>\n",
       "      <td>112120.000000</td>\n",
       "      <td>112120.000000</td>\n",
       "      <td>112120.000000</td>\n",
       "    </tr>\n",
       "    <tr>\n",
       "      <th>mean</th>\n",
       "      <td>8.573751</td>\n",
       "      <td>14346.381743</td>\n",
       "      <td>46.901463</td>\n",
       "      <td>2646.078844</td>\n",
       "      <td>2486.438842</td>\n",
       "      <td>0.155649</td>\n",
       "      <td>0.155649</td>\n",
       "    </tr>\n",
       "    <tr>\n",
       "      <th>std</th>\n",
       "      <td>15.406320</td>\n",
       "      <td>8403.876972</td>\n",
       "      <td>16.839923</td>\n",
       "      <td>341.246429</td>\n",
       "      <td>401.268227</td>\n",
       "      <td>0.016174</td>\n",
       "      <td>0.016174</td>\n",
       "    </tr>\n",
       "    <tr>\n",
       "      <th>min</th>\n",
       "      <td>0.000000</td>\n",
       "      <td>1.000000</td>\n",
       "      <td>1.000000</td>\n",
       "      <td>1143.000000</td>\n",
       "      <td>966.000000</td>\n",
       "      <td>0.115000</td>\n",
       "      <td>0.115000</td>\n",
       "    </tr>\n",
       "    <tr>\n",
       "      <th>25%</th>\n",
       "      <td>0.000000</td>\n",
       "      <td>7310.750000</td>\n",
       "      <td>35.000000</td>\n",
       "      <td>2500.000000</td>\n",
       "      <td>2048.000000</td>\n",
       "      <td>0.143000</td>\n",
       "      <td>0.143000</td>\n",
       "    </tr>\n",
       "    <tr>\n",
       "      <th>50%</th>\n",
       "      <td>3.000000</td>\n",
       "      <td>13993.000000</td>\n",
       "      <td>49.000000</td>\n",
       "      <td>2518.000000</td>\n",
       "      <td>2544.000000</td>\n",
       "      <td>0.143000</td>\n",
       "      <td>0.143000</td>\n",
       "    </tr>\n",
       "    <tr>\n",
       "      <th>75%</th>\n",
       "      <td>10.000000</td>\n",
       "      <td>20673.000000</td>\n",
       "      <td>59.000000</td>\n",
       "      <td>2992.000000</td>\n",
       "      <td>2991.000000</td>\n",
       "      <td>0.168000</td>\n",
       "      <td>0.168000</td>\n",
       "    </tr>\n",
       "    <tr>\n",
       "      <th>max</th>\n",
       "      <td>183.000000</td>\n",
       "      <td>30805.000000</td>\n",
       "      <td>414.000000</td>\n",
       "      <td>3827.000000</td>\n",
       "      <td>4715.000000</td>\n",
       "      <td>0.198800</td>\n",
       "      <td>0.198800</td>\n",
       "    </tr>\n",
       "  </tbody>\n",
       "</table>\n",
       "</div>"
      ],
      "text/plain": [
       "           follow_up          pa_id         pa_age  OriginalImage[Width  \\\n",
       "count  112120.000000  112120.000000  112120.000000        112120.000000   \n",
       "mean        8.573751   14346.381743      46.901463          2646.078844   \n",
       "std        15.406320    8403.876972      16.839923           341.246429   \n",
       "min         0.000000       1.000000       1.000000          1143.000000   \n",
       "25%         0.000000    7310.750000      35.000000          2500.000000   \n",
       "50%         3.000000   13993.000000      49.000000          2518.000000   \n",
       "75%        10.000000   20673.000000      59.000000          2992.000000   \n",
       "max       183.000000   30805.000000     414.000000          3827.000000   \n",
       "\n",
       "             Height]  OriginalImagePixelSpacing[x             y]  \n",
       "count  112120.000000                112120.000000  112120.000000  \n",
       "mean     2486.438842                     0.155649       0.155649  \n",
       "std       401.268227                     0.016174       0.016174  \n",
       "min       966.000000                     0.115000       0.115000  \n",
       "25%      2048.000000                     0.143000       0.143000  \n",
       "50%      2544.000000                     0.143000       0.143000  \n",
       "75%      2991.000000                     0.168000       0.168000  \n",
       "max      4715.000000                     0.198800       0.198800  "
      ]
     },
     "execution_count": 8,
     "metadata": {},
     "output_type": "execute_result"
    }
   ],
   "source": [
    "df.describe()"
   ]
  },
  {
   "cell_type": "code",
   "execution_count": 9,
   "metadata": {},
   "outputs": [],
   "source": [
    "#assign 1 for 'No Finding' and 2 for 'Cardiomegaly' in a column \"marker\"\n",
    "df.loc[df.labels.str.contains('No Finding'), 'marker'] = '1'\n",
    "\n",
    "df.loc[df.labels.str.contains('Cardiomegaly'), 'marker'] = '2'"
   ]
  },
  {
   "cell_type": "code",
   "execution_count": 10,
   "metadata": {
    "scrolled": true
   },
   "outputs": [
    {
     "data": {
      "text/html": [
       "<div>\n",
       "<style scoped>\n",
       "    .dataframe tbody tr th:only-of-type {\n",
       "        vertical-align: middle;\n",
       "    }\n",
       "\n",
       "    .dataframe tbody tr th {\n",
       "        vertical-align: top;\n",
       "    }\n",
       "\n",
       "    .dataframe thead th {\n",
       "        text-align: right;\n",
       "    }\n",
       "</style>\n",
       "<table border=\"1\" class=\"dataframe\">\n",
       "  <thead>\n",
       "    <tr style=\"text-align: right;\">\n",
       "      <th></th>\n",
       "      <th>img_index</th>\n",
       "      <th>labels</th>\n",
       "      <th>follow_up</th>\n",
       "      <th>pa_id</th>\n",
       "      <th>pa_age</th>\n",
       "      <th>pa_gender</th>\n",
       "      <th>view_position</th>\n",
       "      <th>OriginalImage[Width</th>\n",
       "      <th>Height]</th>\n",
       "      <th>OriginalImagePixelSpacing[x</th>\n",
       "      <th>y]</th>\n",
       "      <th>marker</th>\n",
       "    </tr>\n",
       "  </thead>\n",
       "  <tbody>\n",
       "    <tr>\n",
       "      <th>0</th>\n",
       "      <td>00000001_000.png</td>\n",
       "      <td>Cardiomegaly</td>\n",
       "      <td>0</td>\n",
       "      <td>1</td>\n",
       "      <td>58</td>\n",
       "      <td>M</td>\n",
       "      <td>PA</td>\n",
       "      <td>2682</td>\n",
       "      <td>2749</td>\n",
       "      <td>0.143</td>\n",
       "      <td>0.143</td>\n",
       "      <td>2</td>\n",
       "    </tr>\n",
       "    <tr>\n",
       "      <th>1</th>\n",
       "      <td>00000001_001.png</td>\n",
       "      <td>Cardiomegaly|Emphysema</td>\n",
       "      <td>1</td>\n",
       "      <td>1</td>\n",
       "      <td>58</td>\n",
       "      <td>M</td>\n",
       "      <td>PA</td>\n",
       "      <td>2894</td>\n",
       "      <td>2729</td>\n",
       "      <td>0.143</td>\n",
       "      <td>0.143</td>\n",
       "      <td>2</td>\n",
       "    </tr>\n",
       "    <tr>\n",
       "      <th>2</th>\n",
       "      <td>00000001_002.png</td>\n",
       "      <td>Cardiomegaly|Effusion</td>\n",
       "      <td>2</td>\n",
       "      <td>1</td>\n",
       "      <td>58</td>\n",
       "      <td>M</td>\n",
       "      <td>PA</td>\n",
       "      <td>2500</td>\n",
       "      <td>2048</td>\n",
       "      <td>0.168</td>\n",
       "      <td>0.168</td>\n",
       "      <td>2</td>\n",
       "    </tr>\n",
       "    <tr>\n",
       "      <th>3</th>\n",
       "      <td>00000002_000.png</td>\n",
       "      <td>No Finding</td>\n",
       "      <td>0</td>\n",
       "      <td>2</td>\n",
       "      <td>81</td>\n",
       "      <td>M</td>\n",
       "      <td>PA</td>\n",
       "      <td>2500</td>\n",
       "      <td>2048</td>\n",
       "      <td>0.171</td>\n",
       "      <td>0.171</td>\n",
       "      <td>1</td>\n",
       "    </tr>\n",
       "    <tr>\n",
       "      <th>4</th>\n",
       "      <td>00000003_000.png</td>\n",
       "      <td>Hernia</td>\n",
       "      <td>0</td>\n",
       "      <td>3</td>\n",
       "      <td>81</td>\n",
       "      <td>F</td>\n",
       "      <td>PA</td>\n",
       "      <td>2582</td>\n",
       "      <td>2991</td>\n",
       "      <td>0.143</td>\n",
       "      <td>0.143</td>\n",
       "      <td>NaN</td>\n",
       "    </tr>\n",
       "  </tbody>\n",
       "</table>\n",
       "</div>"
      ],
      "text/plain": [
       "          img_index                  labels  follow_up  pa_id  pa_age  \\\n",
       "0  00000001_000.png            Cardiomegaly          0      1      58   \n",
       "1  00000001_001.png  Cardiomegaly|Emphysema          1      1      58   \n",
       "2  00000001_002.png   Cardiomegaly|Effusion          2      1      58   \n",
       "3  00000002_000.png              No Finding          0      2      81   \n",
       "4  00000003_000.png                  Hernia          0      3      81   \n",
       "\n",
       "  pa_gender view_position  OriginalImage[Width  Height]  \\\n",
       "0         M            PA                 2682     2749   \n",
       "1         M            PA                 2894     2729   \n",
       "2         M            PA                 2500     2048   \n",
       "3         M            PA                 2500     2048   \n",
       "4         F            PA                 2582     2991   \n",
       "\n",
       "   OriginalImagePixelSpacing[x     y] marker  \n",
       "0                        0.143  0.143      2  \n",
       "1                        0.143  0.143      2  \n",
       "2                        0.168  0.168      2  \n",
       "3                        0.171  0.171      1  \n",
       "4                        0.143  0.143    NaN  "
      ]
     },
     "execution_count": 10,
     "metadata": {},
     "output_type": "execute_result"
    }
   ],
   "source": [
    "df.head()"
   ]
  },
  {
   "cell_type": "code",
   "execution_count": 11,
   "metadata": {
    "scrolled": true
   },
   "outputs": [
    {
     "data": {
      "text/html": [
       "<div>\n",
       "<style scoped>\n",
       "    .dataframe tbody tr th:only-of-type {\n",
       "        vertical-align: middle;\n",
       "    }\n",
       "\n",
       "    .dataframe tbody tr th {\n",
       "        vertical-align: top;\n",
       "    }\n",
       "\n",
       "    .dataframe thead th {\n",
       "        text-align: right;\n",
       "    }\n",
       "</style>\n",
       "<table border=\"1\" class=\"dataframe\">\n",
       "  <thead>\n",
       "    <tr style=\"text-align: right;\">\n",
       "      <th></th>\n",
       "      <th>img_index</th>\n",
       "      <th>labels</th>\n",
       "      <th>follow_up</th>\n",
       "      <th>pa_id</th>\n",
       "      <th>pa_age</th>\n",
       "      <th>pa_gender</th>\n",
       "      <th>view_position</th>\n",
       "      <th>OriginalImage[Width</th>\n",
       "      <th>Height]</th>\n",
       "      <th>OriginalImagePixelSpacing[x</th>\n",
       "      <th>y]</th>\n",
       "      <th>marker</th>\n",
       "    </tr>\n",
       "  </thead>\n",
       "  <tbody>\n",
       "    <tr>\n",
       "      <th>0</th>\n",
       "      <td>00000001_000.png</td>\n",
       "      <td>Cardiomegaly</td>\n",
       "      <td>0</td>\n",
       "      <td>1</td>\n",
       "      <td>58</td>\n",
       "      <td>M</td>\n",
       "      <td>PA</td>\n",
       "      <td>2682</td>\n",
       "      <td>2749</td>\n",
       "      <td>0.143</td>\n",
       "      <td>0.143</td>\n",
       "      <td>2</td>\n",
       "    </tr>\n",
       "    <tr>\n",
       "      <th>1</th>\n",
       "      <td>00000001_001.png</td>\n",
       "      <td>Cardiomegaly|Emphysema</td>\n",
       "      <td>1</td>\n",
       "      <td>1</td>\n",
       "      <td>58</td>\n",
       "      <td>M</td>\n",
       "      <td>PA</td>\n",
       "      <td>2894</td>\n",
       "      <td>2729</td>\n",
       "      <td>0.143</td>\n",
       "      <td>0.143</td>\n",
       "      <td>2</td>\n",
       "    </tr>\n",
       "    <tr>\n",
       "      <th>2</th>\n",
       "      <td>00000001_002.png</td>\n",
       "      <td>Cardiomegaly|Effusion</td>\n",
       "      <td>2</td>\n",
       "      <td>1</td>\n",
       "      <td>58</td>\n",
       "      <td>M</td>\n",
       "      <td>PA</td>\n",
       "      <td>2500</td>\n",
       "      <td>2048</td>\n",
       "      <td>0.168</td>\n",
       "      <td>0.168</td>\n",
       "      <td>2</td>\n",
       "    </tr>\n",
       "    <tr>\n",
       "      <th>23</th>\n",
       "      <td>00000008_000.png</td>\n",
       "      <td>Cardiomegaly</td>\n",
       "      <td>0</td>\n",
       "      <td>8</td>\n",
       "      <td>69</td>\n",
       "      <td>F</td>\n",
       "      <td>PA</td>\n",
       "      <td>2048</td>\n",
       "      <td>2500</td>\n",
       "      <td>0.171</td>\n",
       "      <td>0.171</td>\n",
       "      <td>2</td>\n",
       "    </tr>\n",
       "    <tr>\n",
       "      <th>63</th>\n",
       "      <td>00000013_025.png</td>\n",
       "      <td>Cardiomegaly|Infiltration|Mass|Nodule</td>\n",
       "      <td>25</td>\n",
       "      <td>13</td>\n",
       "      <td>56</td>\n",
       "      <td>M</td>\n",
       "      <td>PA</td>\n",
       "      <td>2992</td>\n",
       "      <td>2991</td>\n",
       "      <td>0.143</td>\n",
       "      <td>0.143</td>\n",
       "      <td>2</td>\n",
       "    </tr>\n",
       "  </tbody>\n",
       "</table>\n",
       "</div>"
      ],
      "text/plain": [
       "           img_index                                 labels  follow_up  pa_id  \\\n",
       "0   00000001_000.png                           Cardiomegaly          0      1   \n",
       "1   00000001_001.png                 Cardiomegaly|Emphysema          1      1   \n",
       "2   00000001_002.png                  Cardiomegaly|Effusion          2      1   \n",
       "23  00000008_000.png                           Cardiomegaly          0      8   \n",
       "63  00000013_025.png  Cardiomegaly|Infiltration|Mass|Nodule         25     13   \n",
       "\n",
       "    pa_age pa_gender view_position  OriginalImage[Width  Height]  \\\n",
       "0       58         M            PA                 2682     2749   \n",
       "1       58         M            PA                 2894     2729   \n",
       "2       58         M            PA                 2500     2048   \n",
       "23      69         F            PA                 2048     2500   \n",
       "63      56         M            PA                 2992     2991   \n",
       "\n",
       "    OriginalImagePixelSpacing[x     y] marker  \n",
       "0                         0.143  0.143      2  \n",
       "1                         0.143  0.143      2  \n",
       "2                         0.168  0.168      2  \n",
       "23                        0.171  0.171      2  \n",
       "63                        0.143  0.143      2  "
      ]
     },
     "execution_count": 11,
     "metadata": {},
     "output_type": "execute_result"
    }
   ],
   "source": [
    "df_cardiomegaly=df[df['marker'] == '2']\n",
    "df_cardiomegaly.head()"
   ]
  },
  {
   "cell_type": "code",
   "execution_count": 60,
   "metadata": {
    "scrolled": false
   },
   "outputs": [
    {
     "data": {
      "image/png": "[encoded data removed]",
      "text/plain": [
       "<Figure size 720x432 with 1 Axes>"
      ]
     },
     "metadata": {
      "needs_background": "light"
     },
     "output_type": "display_data"
    }
   ],
   "source": [
    "#the frequency of occurance of Cardiomegaly realted to sex(M,F)\n",
    "import seaborn as sns\n",
    "plt.rcParams[\"figure.figsize\"] = [10,6]\n",
    "ax=sns.countplot(df_cardiomegaly.pa_gender) \n",
    "ax.set_xlabel('Age', fontsize=16)\n",
    "ax.set_ylabel('Number of Patients data',fontsize=16)\n",
    "plt.savefig('patients gender frequency.png')\n",
    "plt.show()"
   ]
  },
  {
   "cell_type": "markdown",
   "metadata": {},
   "source": [
    "The plot above shows that the frequency of occurance of Cardiomegaly is more in Female than in Male"
   ]
  },
  {
   "cell_type": "code",
   "execution_count": 13,
   "metadata": {
    "scrolled": false
   },
   "outputs": [
    {
     "data": {
      "text/html": [
       "<div>\n",
       "<style scoped>\n",
       "    .dataframe tbody tr th:only-of-type {\n",
       "        vertical-align: middle;\n",
       "    }\n",
       "\n",
       "    .dataframe tbody tr th {\n",
       "        vertical-align: top;\n",
       "    }\n",
       "\n",
       "    .dataframe thead th {\n",
       "        text-align: right;\n",
       "    }\n",
       "</style>\n",
       "<table border=\"1\" class=\"dataframe\">\n",
       "  <thead>\n",
       "    <tr style=\"text-align: right;\">\n",
       "      <th></th>\n",
       "      <th>follow_up</th>\n",
       "      <th>pa_id</th>\n",
       "      <th>pa_age</th>\n",
       "      <th>OriginalImage[Width</th>\n",
       "      <th>Height]</th>\n",
       "      <th>OriginalImagePixelSpacing[x</th>\n",
       "      <th>y]</th>\n",
       "    </tr>\n",
       "  </thead>\n",
       "  <tbody>\n",
       "    <tr>\n",
       "      <th>count</th>\n",
       "      <td>2776.000000</td>\n",
       "      <td>2776.000000</td>\n",
       "      <td>2776.000000</td>\n",
       "      <td>2776.000000</td>\n",
       "      <td>2776.000000</td>\n",
       "      <td>2776.000000</td>\n",
       "      <td>2776.000000</td>\n",
       "    </tr>\n",
       "    <tr>\n",
       "      <th>mean</th>\n",
       "      <td>10.950288</td>\n",
       "      <td>13556.869236</td>\n",
       "      <td>47.268012</td>\n",
       "      <td>2625.174712</td>\n",
       "      <td>2466.034222</td>\n",
       "      <td>0.155785</td>\n",
       "      <td>0.155785</td>\n",
       "    </tr>\n",
       "    <tr>\n",
       "      <th>std</th>\n",
       "      <td>17.676871</td>\n",
       "      <td>8740.634861</td>\n",
       "      <td>17.244470</td>\n",
       "      <td>348.337028</td>\n",
       "      <td>386.388308</td>\n",
       "      <td>0.016384</td>\n",
       "      <td>0.016384</td>\n",
       "    </tr>\n",
       "    <tr>\n",
       "      <th>min</th>\n",
       "      <td>0.000000</td>\n",
       "      <td>1.000000</td>\n",
       "      <td>2.000000</td>\n",
       "      <td>1456.000000</td>\n",
       "      <td>1439.000000</td>\n",
       "      <td>0.139000</td>\n",
       "      <td>0.139000</td>\n",
       "    </tr>\n",
       "    <tr>\n",
       "      <th>25%</th>\n",
       "      <td>0.000000</td>\n",
       "      <td>5419.000000</td>\n",
       "      <td>34.000000</td>\n",
       "      <td>2500.000000</td>\n",
       "      <td>2048.000000</td>\n",
       "      <td>0.143000</td>\n",
       "      <td>0.143000</td>\n",
       "    </tr>\n",
       "    <tr>\n",
       "      <th>50%</th>\n",
       "      <td>4.000000</td>\n",
       "      <td>13249.000000</td>\n",
       "      <td>49.000000</td>\n",
       "      <td>2500.000000</td>\n",
       "      <td>2500.000000</td>\n",
       "      <td>0.143000</td>\n",
       "      <td>0.143000</td>\n",
       "    </tr>\n",
       "    <tr>\n",
       "      <th>75%</th>\n",
       "      <td>13.000000</td>\n",
       "      <td>20042.250000</td>\n",
       "      <td>60.000000</td>\n",
       "      <td>2992.000000</td>\n",
       "      <td>2935.250000</td>\n",
       "      <td>0.168000</td>\n",
       "      <td>0.168000</td>\n",
       "    </tr>\n",
       "    <tr>\n",
       "      <th>max</th>\n",
       "      <td>165.000000</td>\n",
       "      <td>30786.000000</td>\n",
       "      <td>91.000000</td>\n",
       "      <td>3305.000000</td>\n",
       "      <td>3056.000000</td>\n",
       "      <td>0.194314</td>\n",
       "      <td>0.194314</td>\n",
       "    </tr>\n",
       "  </tbody>\n",
       "</table>\n",
       "</div>"
      ],
      "text/plain": [
       "         follow_up         pa_id       pa_age  OriginalImage[Width  \\\n",
       "count  2776.000000   2776.000000  2776.000000          2776.000000   \n",
       "mean     10.950288  13556.869236    47.268012          2625.174712   \n",
       "std      17.676871   8740.634861    17.244470           348.337028   \n",
       "min       0.000000      1.000000     2.000000          1456.000000   \n",
       "25%       0.000000   5419.000000    34.000000          2500.000000   \n",
       "50%       4.000000  13249.000000    49.000000          2500.000000   \n",
       "75%      13.000000  20042.250000    60.000000          2992.000000   \n",
       "max     165.000000  30786.000000    91.000000          3305.000000   \n",
       "\n",
       "           Height]  OriginalImagePixelSpacing[x           y]  \n",
       "count  2776.000000                  2776.000000  2776.000000  \n",
       "mean   2466.034222                     0.155785     0.155785  \n",
       "std     386.388308                     0.016384     0.016384  \n",
       "min    1439.000000                     0.139000     0.139000  \n",
       "25%    2048.000000                     0.143000     0.143000  \n",
       "50%    2500.000000                     0.143000     0.143000  \n",
       "75%    2935.250000                     0.168000     0.168000  \n",
       "max    3056.000000                     0.194314     0.194314  "
      ]
     },
     "execution_count": 13,
     "metadata": {},
     "output_type": "execute_result"
    }
   ],
   "source": [
    "#There are some data which involves not accepted age. Considering 116 years as the accepted age we ignore the data points \n",
    "# related to age >116 only for this graph\n",
    "Age_below_117 = df_cardiomegaly['pa_age'] < 117 \n",
    "df_cardiomegaly[Age_below_117]\n",
    "age_correction_df=df_cardiomegaly[Age_below_117]\n",
    "age_correction_df.describe()"
   ]
  },
  {
   "cell_type": "code",
   "execution_count": 14,
   "metadata": {
    "scrolled": true
   },
   "outputs": [
    {
     "data": {
      "text/html": [
       "<div>\n",
       "<style scoped>\n",
       "    .dataframe tbody tr th:only-of-type {\n",
       "        vertical-align: middle;\n",
       "    }\n",
       "\n",
       "    .dataframe tbody tr th {\n",
       "        vertical-align: top;\n",
       "    }\n",
       "\n",
       "    .dataframe thead th {\n",
       "        text-align: right;\n",
       "    }\n",
       "</style>\n",
       "<table border=\"1\" class=\"dataframe\">\n",
       "  <thead>\n",
       "    <tr style=\"text-align: right;\">\n",
       "      <th></th>\n",
       "      <th>img_index</th>\n",
       "      <th>labels</th>\n",
       "      <th>follow_up</th>\n",
       "      <th>pa_id</th>\n",
       "      <th>pa_age</th>\n",
       "      <th>pa_gender</th>\n",
       "      <th>view_position</th>\n",
       "      <th>OriginalImage[Width</th>\n",
       "      <th>Height]</th>\n",
       "      <th>OriginalImagePixelSpacing[x</th>\n",
       "      <th>y]</th>\n",
       "      <th>marker</th>\n",
       "    </tr>\n",
       "  </thead>\n",
       "  <tbody>\n",
       "    <tr>\n",
       "      <th>0</th>\n",
       "      <td>00000001_000.png</td>\n",
       "      <td>Cardiomegaly</td>\n",
       "      <td>0</td>\n",
       "      <td>1</td>\n",
       "      <td>58</td>\n",
       "      <td>M</td>\n",
       "      <td>PA</td>\n",
       "      <td>2682</td>\n",
       "      <td>2749</td>\n",
       "      <td>0.143</td>\n",
       "      <td>0.143</td>\n",
       "      <td>2</td>\n",
       "    </tr>\n",
       "    <tr>\n",
       "      <th>1</th>\n",
       "      <td>00000001_001.png</td>\n",
       "      <td>Cardiomegaly|Emphysema</td>\n",
       "      <td>1</td>\n",
       "      <td>1</td>\n",
       "      <td>58</td>\n",
       "      <td>M</td>\n",
       "      <td>PA</td>\n",
       "      <td>2894</td>\n",
       "      <td>2729</td>\n",
       "      <td>0.143</td>\n",
       "      <td>0.143</td>\n",
       "      <td>2</td>\n",
       "    </tr>\n",
       "    <tr>\n",
       "      <th>2</th>\n",
       "      <td>00000001_002.png</td>\n",
       "      <td>Cardiomegaly|Effusion</td>\n",
       "      <td>2</td>\n",
       "      <td>1</td>\n",
       "      <td>58</td>\n",
       "      <td>M</td>\n",
       "      <td>PA</td>\n",
       "      <td>2500</td>\n",
       "      <td>2048</td>\n",
       "      <td>0.168</td>\n",
       "      <td>0.168</td>\n",
       "      <td>2</td>\n",
       "    </tr>\n",
       "    <tr>\n",
       "      <th>23</th>\n",
       "      <td>00000008_000.png</td>\n",
       "      <td>Cardiomegaly</td>\n",
       "      <td>0</td>\n",
       "      <td>8</td>\n",
       "      <td>69</td>\n",
       "      <td>F</td>\n",
       "      <td>PA</td>\n",
       "      <td>2048</td>\n",
       "      <td>2500</td>\n",
       "      <td>0.171</td>\n",
       "      <td>0.171</td>\n",
       "      <td>2</td>\n",
       "    </tr>\n",
       "    <tr>\n",
       "      <th>63</th>\n",
       "      <td>00000013_025.png</td>\n",
       "      <td>Cardiomegaly|Infiltration|Mass|Nodule</td>\n",
       "      <td>25</td>\n",
       "      <td>13</td>\n",
       "      <td>56</td>\n",
       "      <td>M</td>\n",
       "      <td>PA</td>\n",
       "      <td>2992</td>\n",
       "      <td>2991</td>\n",
       "      <td>0.143</td>\n",
       "      <td>0.143</td>\n",
       "      <td>2</td>\n",
       "    </tr>\n",
       "  </tbody>\n",
       "</table>\n",
       "</div>"
      ],
      "text/plain": [
       "           img_index                                 labels  follow_up  pa_id  \\\n",
       "0   00000001_000.png                           Cardiomegaly          0      1   \n",
       "1   00000001_001.png                 Cardiomegaly|Emphysema          1      1   \n",
       "2   00000001_002.png                  Cardiomegaly|Effusion          2      1   \n",
       "23  00000008_000.png                           Cardiomegaly          0      8   \n",
       "63  00000013_025.png  Cardiomegaly|Infiltration|Mass|Nodule         25     13   \n",
       "\n",
       "    pa_age pa_gender view_position  OriginalImage[Width  Height]  \\\n",
       "0       58         M            PA                 2682     2749   \n",
       "1       58         M            PA                 2894     2729   \n",
       "2       58         M            PA                 2500     2048   \n",
       "23      69         F            PA                 2048     2500   \n",
       "63      56         M            PA                 2992     2991   \n",
       "\n",
       "    OriginalImagePixelSpacing[x     y] marker  \n",
       "0                         0.143  0.143      2  \n",
       "1                         0.143  0.143      2  \n",
       "2                         0.168  0.168      2  \n",
       "23                        0.171  0.171      2  \n",
       "63                        0.143  0.143      2  "
      ]
     },
     "execution_count": 14,
     "metadata": {},
     "output_type": "execute_result"
    }
   ],
   "source": [
    "age_correction_df.head()"
   ]
  },
  {
   "cell_type": "code",
   "execution_count": 15,
   "metadata": {
    "scrolled": false
   },
   "outputs": [
    {
     "data": {
      "image/png": "[encoded data removed]",
      "text/plain": [
       "<Figure size 720x432 with 1 Axes>"
      ]
     },
     "metadata": {
      "needs_background": "light"
     },
     "output_type": "display_data"
    }
   ],
   "source": [
    "plt.figure(figsize=(10,6))\n",
    "ax=sns.countplot(age_correction_df.pa_age) \n",
    " \n",
    "#ax.set_xticklabels(ax.get_xticklabels(), rotation=90, ha=\"right\")\n",
    "for ind, label in enumerate(ax.get_xticklabels()):\n",
    "    if ind % 10 == 0:  # every 10th label is kept\n",
    "        label.set_visible(True)\n",
    "    else:\n",
    "        label.set_visible(False)\n",
    "plt.show()"
   ]
  },
  {
   "cell_type": "code",
   "execution_count": 16,
   "metadata": {
    "scrolled": false
   },
   "outputs": [
    {
     "name": "stdout",
     "output_type": "stream",
     "text": [
      "   pa_age  count\n",
      "0     2-7     15\n",
      "1    8-12     61\n",
      "2   13-17     73\n",
      "3   18-22     82\n",
      "4   23-27    161\n",
      "5   28-32    250\n",
      "6   33-37    202\n",
      "7   38-42    179\n",
      "8   43-47    270\n",
      "9   48-52    306\n",
      "10  53-57    312\n",
      "11  58-62    322\n",
      "12  63-67    248\n",
      "13  68-72    122\n",
      "14  73-77     93\n",
      "15  78-82     49\n",
      "16  83-87     26\n",
      "17  88-93      4\n"
     ]
    }
   ],
   "source": [
    "bins = [2,7,12,17,22,27,32,37,42,47,52,57,62,67,72,77,82,87,93]\n",
    "labels=['2-7','8-12','13-17','18-22','23-27','28-32','33-37','38-42','43-47','48-52','53-57','58-62','63-67','68-72','73-77','78-82','83-87','88-93']\n",
    "age_range_df=age_correction_df.groupby(pd.cut(age_correction_df['pa_age'], bins=bins, labels=labels)).size().reset_index(name='count')\n",
    "print (age_range_df)\n",
    "        \n",
    "#https://stackoverflow.com/questions/48280733/how-to-group-by-list-ranges-of-value-in-python-pandas"
   ]
  },
  {
   "cell_type": "code",
   "execution_count": 17,
   "metadata": {
    "scrolled": true
   },
   "outputs": [
    {
     "data": {
      "text/html": [
       "<div>\n",
       "<style scoped>\n",
       "    .dataframe tbody tr th:only-of-type {\n",
       "        vertical-align: middle;\n",
       "    }\n",
       "\n",
       "    .dataframe tbody tr th {\n",
       "        vertical-align: top;\n",
       "    }\n",
       "\n",
       "    .dataframe thead th {\n",
       "        text-align: right;\n",
       "    }\n",
       "</style>\n",
       "<table border=\"1\" class=\"dataframe\">\n",
       "  <thead>\n",
       "    <tr style=\"text-align: right;\">\n",
       "      <th></th>\n",
       "      <th>pa_age</th>\n",
       "      <th>count</th>\n",
       "      <th>count_n</th>\n",
       "    </tr>\n",
       "  </thead>\n",
       "  <tbody>\n",
       "    <tr>\n",
       "      <th>0</th>\n",
       "      <td>2-7</td>\n",
       "      <td>15</td>\n",
       "      <td>0.540346</td>\n",
       "    </tr>\n",
       "    <tr>\n",
       "      <th>1</th>\n",
       "      <td>8-12</td>\n",
       "      <td>61</td>\n",
       "      <td>2.197406</td>\n",
       "    </tr>\n",
       "    <tr>\n",
       "      <th>2</th>\n",
       "      <td>13-17</td>\n",
       "      <td>73</td>\n",
       "      <td>2.629683</td>\n",
       "    </tr>\n",
       "    <tr>\n",
       "      <th>3</th>\n",
       "      <td>18-22</td>\n",
       "      <td>82</td>\n",
       "      <td>2.953890</td>\n",
       "    </tr>\n",
       "    <tr>\n",
       "      <th>4</th>\n",
       "      <td>23-27</td>\n",
       "      <td>161</td>\n",
       "      <td>5.799712</td>\n",
       "    </tr>\n",
       "  </tbody>\n",
       "</table>\n",
       "</div>"
      ],
      "text/plain": [
       "  pa_age  count   count_n\n",
       "0    2-7     15  0.540346\n",
       "1   8-12     61  2.197406\n",
       "2  13-17     73  2.629683\n",
       "3  18-22     82  2.953890\n",
       "4  23-27    161  5.799712"
      ]
     },
     "execution_count": 17,
     "metadata": {},
     "output_type": "execute_result"
    }
   ],
   "source": [
    "#divide the case with the total number \n",
    "age_range_df['count_n']= (age_range_df['count']/2776)*100\n",
    "age_range_df.head()"
   ]
  },
  {
   "cell_type": "markdown",
   "metadata": {},
   "source": [
    "number of observation per catogery....(count/number of observation for that age range)"
   ]
  },
  {
   "cell_type": "markdown",
   "metadata": {},
   "source": [
    "null hypothesis...."
   ]
  },
  {
   "cell_type": "code",
   "execution_count": 61,
   "metadata": {
    "scrolled": false
   },
   "outputs": [
    {
     "data": {
      "text/plain": [
       "<matplotlib.axes._subplots.AxesSubplot at 0x1a1c869550>"
      ]
     },
     "execution_count": 61,
     "metadata": {},
     "output_type": "execute_result"
    },
    {
     "data": {
      "image/png": "[encoded data removed]",
      "text/plain": [
       "<Figure size 720x432 with 1 Axes>"
      ]
     },
     "metadata": {
      "needs_background": "light"
     },
     "output_type": "display_data"
    }
   ],
   "source": [
    "#plt.figure(figsize=(12,5)) \n",
    "plt.rcParams[\"figure.figsize\"] = [10,6]\n",
    "age_range_df.plot.bar(x='pa_age',y='count_n')\n",
    "#plt.show"
   ]
  },
  {
   "cell_type": "markdown",
   "metadata": {},
   "source": [
    "The number of cases with Cardiomegaly is now nomalised to total number of data sets. It seems it has abimodal distribution with a poeak around the age group 28-32 and another one from 48 to 62. "
   ]
  },
  {
   "cell_type": "code",
   "execution_count": 19,
   "metadata": {},
   "outputs": [
    {
     "data": {
      "text/html": [
       "<div>\n",
       "<style scoped>\n",
       "    .dataframe tbody tr th:only-of-type {\n",
       "        vertical-align: middle;\n",
       "    }\n",
       "\n",
       "    .dataframe tbody tr th {\n",
       "        vertical-align: top;\n",
       "    }\n",
       "\n",
       "    .dataframe thead th {\n",
       "        text-align: right;\n",
       "    }\n",
       "</style>\n",
       "<table border=\"1\" class=\"dataframe\">\n",
       "  <thead>\n",
       "    <tr style=\"text-align: right;\">\n",
       "      <th></th>\n",
       "      <th>img_index</th>\n",
       "      <th>labels</th>\n",
       "      <th>follow_up</th>\n",
       "      <th>pa_id</th>\n",
       "      <th>pa_age</th>\n",
       "      <th>pa_gender</th>\n",
       "      <th>view_position</th>\n",
       "      <th>OriginalImage[Width</th>\n",
       "      <th>Height]</th>\n",
       "      <th>OriginalImagePixelSpacing[x</th>\n",
       "      <th>...</th>\n",
       "      <th>Edema</th>\n",
       "      <th>Emphysema</th>\n",
       "      <th>Fibrosis</th>\n",
       "      <th>Effusion</th>\n",
       "      <th>Pneumonia</th>\n",
       "      <th>Pleural_Thickening</th>\n",
       "      <th>Cardiomegaly</th>\n",
       "      <th>Nodule</th>\n",
       "      <th>Mass</th>\n",
       "      <th>Hernia</th>\n",
       "    </tr>\n",
       "  </thead>\n",
       "  <tbody>\n",
       "    <tr>\n",
       "      <th>0</th>\n",
       "      <td>00000001_000.png</td>\n",
       "      <td>Cardiomegaly</td>\n",
       "      <td>0</td>\n",
       "      <td>1</td>\n",
       "      <td>58</td>\n",
       "      <td>M</td>\n",
       "      <td>PA</td>\n",
       "      <td>2682</td>\n",
       "      <td>2749</td>\n",
       "      <td>0.143</td>\n",
       "      <td>...</td>\n",
       "      <td>0.0</td>\n",
       "      <td>0.0</td>\n",
       "      <td>0.0</td>\n",
       "      <td>0.0</td>\n",
       "      <td>0.0</td>\n",
       "      <td>0.0</td>\n",
       "      <td>1.0</td>\n",
       "      <td>0.0</td>\n",
       "      <td>0.0</td>\n",
       "      <td>0.0</td>\n",
       "    </tr>\n",
       "    <tr>\n",
       "      <th>1</th>\n",
       "      <td>00000001_001.png</td>\n",
       "      <td>Cardiomegaly|Emphysema</td>\n",
       "      <td>1</td>\n",
       "      <td>1</td>\n",
       "      <td>58</td>\n",
       "      <td>M</td>\n",
       "      <td>PA</td>\n",
       "      <td>2894</td>\n",
       "      <td>2729</td>\n",
       "      <td>0.143</td>\n",
       "      <td>...</td>\n",
       "      <td>0.0</td>\n",
       "      <td>1.0</td>\n",
       "      <td>0.0</td>\n",
       "      <td>0.0</td>\n",
       "      <td>0.0</td>\n",
       "      <td>0.0</td>\n",
       "      <td>1.0</td>\n",
       "      <td>0.0</td>\n",
       "      <td>0.0</td>\n",
       "      <td>0.0</td>\n",
       "    </tr>\n",
       "    <tr>\n",
       "      <th>2</th>\n",
       "      <td>00000001_002.png</td>\n",
       "      <td>Cardiomegaly|Effusion</td>\n",
       "      <td>2</td>\n",
       "      <td>1</td>\n",
       "      <td>58</td>\n",
       "      <td>M</td>\n",
       "      <td>PA</td>\n",
       "      <td>2500</td>\n",
       "      <td>2048</td>\n",
       "      <td>0.168</td>\n",
       "      <td>...</td>\n",
       "      <td>0.0</td>\n",
       "      <td>0.0</td>\n",
       "      <td>0.0</td>\n",
       "      <td>1.0</td>\n",
       "      <td>0.0</td>\n",
       "      <td>0.0</td>\n",
       "      <td>1.0</td>\n",
       "      <td>0.0</td>\n",
       "      <td>0.0</td>\n",
       "      <td>0.0</td>\n",
       "    </tr>\n",
       "    <tr>\n",
       "      <th>23</th>\n",
       "      <td>00000008_000.png</td>\n",
       "      <td>Cardiomegaly</td>\n",
       "      <td>0</td>\n",
       "      <td>8</td>\n",
       "      <td>69</td>\n",
       "      <td>F</td>\n",
       "      <td>PA</td>\n",
       "      <td>2048</td>\n",
       "      <td>2500</td>\n",
       "      <td>0.171</td>\n",
       "      <td>...</td>\n",
       "      <td>0.0</td>\n",
       "      <td>0.0</td>\n",
       "      <td>0.0</td>\n",
       "      <td>0.0</td>\n",
       "      <td>0.0</td>\n",
       "      <td>0.0</td>\n",
       "      <td>1.0</td>\n",
       "      <td>0.0</td>\n",
       "      <td>0.0</td>\n",
       "      <td>0.0</td>\n",
       "    </tr>\n",
       "    <tr>\n",
       "      <th>63</th>\n",
       "      <td>00000013_025.png</td>\n",
       "      <td>Cardiomegaly|Infiltration|Mass|Nodule</td>\n",
       "      <td>25</td>\n",
       "      <td>13</td>\n",
       "      <td>56</td>\n",
       "      <td>M</td>\n",
       "      <td>PA</td>\n",
       "      <td>2992</td>\n",
       "      <td>2991</td>\n",
       "      <td>0.143</td>\n",
       "      <td>...</td>\n",
       "      <td>0.0</td>\n",
       "      <td>0.0</td>\n",
       "      <td>0.0</td>\n",
       "      <td>0.0</td>\n",
       "      <td>0.0</td>\n",
       "      <td>0.0</td>\n",
       "      <td>1.0</td>\n",
       "      <td>1.0</td>\n",
       "      <td>1.0</td>\n",
       "      <td>0.0</td>\n",
       "    </tr>\n",
       "  </tbody>\n",
       "</table>\n",
       "<p>5 rows × 26 columns</p>\n",
       "</div>"
      ],
      "text/plain": [
       "           img_index                                 labels  follow_up  pa_id  \\\n",
       "0   00000001_000.png                           Cardiomegaly          0      1   \n",
       "1   00000001_001.png                 Cardiomegaly|Emphysema          1      1   \n",
       "2   00000001_002.png                  Cardiomegaly|Effusion          2      1   \n",
       "23  00000008_000.png                           Cardiomegaly          0      8   \n",
       "63  00000013_025.png  Cardiomegaly|Infiltration|Mass|Nodule         25     13   \n",
       "\n",
       "    pa_age pa_gender view_position  OriginalImage[Width  Height]  \\\n",
       "0       58         M            PA                 2682     2749   \n",
       "1       58         M            PA                 2894     2729   \n",
       "2       58         M            PA                 2500     2048   \n",
       "23      69         F            PA                 2048     2500   \n",
       "63      56         M            PA                 2992     2991   \n",
       "\n",
       "    OriginalImagePixelSpacing[x  ...  Edema Emphysema  Fibrosis  Effusion  \\\n",
       "0                         0.143  ...    0.0       0.0       0.0       0.0   \n",
       "1                         0.143  ...    0.0       1.0       0.0       0.0   \n",
       "2                         0.168  ...    0.0       0.0       0.0       1.0   \n",
       "23                        0.171  ...    0.0       0.0       0.0       0.0   \n",
       "63                        0.143  ...    0.0       0.0       0.0       0.0   \n",
       "\n",
       "    Pneumonia  Pleural_Thickening  Cardiomegaly  Nodule  Mass  Hernia  \n",
       "0         0.0                 0.0           1.0     0.0   0.0     0.0  \n",
       "1         0.0                 0.0           1.0     0.0   0.0     0.0  \n",
       "2         0.0                 0.0           1.0     0.0   0.0     0.0  \n",
       "23        0.0                 0.0           1.0     0.0   0.0     0.0  \n",
       "63        0.0                 0.0           1.0     1.0   1.0     0.0  \n",
       "\n",
       "[5 rows x 26 columns]"
      ]
     },
     "execution_count": 19,
     "metadata": {},
     "output_type": "execute_result"
    }
   ],
   "source": [
    "disease_labels = ['Atelectasis', 'Consolidation', 'Infiltration', 'Pneumothorax', 'Edema', 'Emphysema', 'Fibrosis', 'Effusion', 'Pneumonia', 'Pleural_Thickening', \n",
    "'Cardiomegaly', 'Nodule', 'Mass', 'Hernia'] \n",
    "\n",
    "for label in disease_labels:\n",
    "    age_correction_df[label] = age_correction_df['labels'].map(lambda result: 1.0 if label in result else 0)\n",
    "age_correction_df.head()"
   ]
  },
  {
   "cell_type": "code",
   "execution_count": 20,
   "metadata": {
    "scrolled": true
   },
   "outputs": [
    {
     "name": "stdout",
     "output_type": "stream",
     "text": [
      "Cardiomegaly     2776.0\n",
      "Effusion         1063.0\n",
      "Infiltration      587.0\n",
      "Atelectasis       370.0\n",
      "Consolidation     169.0\n",
      "dtype: float64\n"
     ]
    }
   ],
   "source": [
    "unique_labels = age_correction_df[disease_labels].sum().sort_values(ascending= False) \n",
    "print(unique_labels[:5]) \n",
    "\n"
   ]
  },
  {
   "cell_type": "code",
   "execution_count": 21,
   "metadata": {
    "scrolled": false
   },
   "outputs": [
    {
     "data": {
      "text/plain": [
       "(<matplotlib.axes._subplots.AxesSubplot at 0x1a1ae78550>,\n",
       " (array([ 0,  1,  2,  3,  4,  5,  6,  7,  8,  9, 10, 11, 12, 13]),\n",
       "  <a list of 14 Text xticklabel objects>))"
      ]
     },
     "execution_count": 21,
     "metadata": {},
     "output_type": "execute_result"
    },
    {
     "data": {
      "image/png": "[encoded data removed]",
      "text/plain": [
       "<Figure size 576x360 with 1 Axes>"
      ]
     },
     "metadata": {
      "needs_background": "light"
     },
     "output_type": "display_data"
    }
   ],
   "source": [
    "plt.figure(figsize=(8,5)) \n",
    "unique_labels_df = unique_labels.to_frame() \n",
    "sns.barplot(x = unique_labels_df.index[::], y= 0, data = unique_labels_df[::], color = \"red\"), plt.xticks(rotation = 90) # visualize results graphically"
   ]
  },
  {
   "cell_type": "markdown",
   "metadata": {},
   "source": [
    "This can be a reason to select Cadiomegaly for doing the Deep learning model "
   ]
  },
  {
   "cell_type": "code",
   "execution_count": 41,
   "metadata": {},
   "outputs": [
    {
     "data": {
      "text/plain": [
       "['00000001_001.png', '00000001_002.png']"
      ]
     },
     "execution_count": 41,
     "metadata": {},
     "output_type": "execute_result"
    }
   ],
   "source": [
    "#convert the files in train_val_list.txt to a python list \n",
    "\n",
    "train_val_list= open('/Users/neeharikasinha/Documents/datascience-course/Capstone1/Chestxray-cardiomegaly3/train_val_list.txt').read().split()\n",
    "train_val_list[1:3]"
   ]
  },
  {
   "cell_type": "code",
   "execution_count": 42,
   "metadata": {
    "scrolled": true
   },
   "outputs": [
    {
     "data": {
      "text/plain": [
       "86524"
      ]
     },
     "execution_count": 42,
     "metadata": {},
     "output_type": "execute_result"
    }
   ],
   "source": [
    "len(train_val_list)"
   ]
  },
  {
   "cell_type": "code",
   "execution_count": 43,
   "metadata": {},
   "outputs": [],
   "source": [
    "#Selecting the images under train_val_list from Data_Entry_2017.csv file\n",
    "\n",
    "df_train_img = df[df.img_index.isin(train_val_list)]"
   ]
  },
  {
   "cell_type": "code",
   "execution_count": 44,
   "metadata": {
    "scrolled": true
   },
   "outputs": [
    {
     "data": {
      "text/html": [
       "<div>\n",
       "<style scoped>\n",
       "    .dataframe tbody tr th:only-of-type {\n",
       "        vertical-align: middle;\n",
       "    }\n",
       "\n",
       "    .dataframe tbody tr th {\n",
       "        vertical-align: top;\n",
       "    }\n",
       "\n",
       "    .dataframe thead th {\n",
       "        text-align: right;\n",
       "    }\n",
       "</style>\n",
       "<table border=\"1\" class=\"dataframe\">\n",
       "  <thead>\n",
       "    <tr style=\"text-align: right;\">\n",
       "      <th></th>\n",
       "      <th>img_index</th>\n",
       "      <th>labels</th>\n",
       "      <th>follow_up</th>\n",
       "      <th>pa_id</th>\n",
       "      <th>pa_age</th>\n",
       "      <th>pa_gender</th>\n",
       "      <th>view_position</th>\n",
       "      <th>OriginalImage[Width</th>\n",
       "      <th>Height]</th>\n",
       "      <th>OriginalImagePixelSpacing[x</th>\n",
       "      <th>y]</th>\n",
       "      <th>marker</th>\n",
       "    </tr>\n",
       "  </thead>\n",
       "  <tbody>\n",
       "    <tr>\n",
       "      <th>0</th>\n",
       "      <td>00000001_000.png</td>\n",
       "      <td>Cardiomegaly</td>\n",
       "      <td>0</td>\n",
       "      <td>1</td>\n",
       "      <td>58</td>\n",
       "      <td>M</td>\n",
       "      <td>PA</td>\n",
       "      <td>2682</td>\n",
       "      <td>2749</td>\n",
       "      <td>0.143</td>\n",
       "      <td>0.143</td>\n",
       "      <td>2</td>\n",
       "    </tr>\n",
       "    <tr>\n",
       "      <th>1</th>\n",
       "      <td>00000001_001.png</td>\n",
       "      <td>Cardiomegaly|Emphysema</td>\n",
       "      <td>1</td>\n",
       "      <td>1</td>\n",
       "      <td>58</td>\n",
       "      <td>M</td>\n",
       "      <td>PA</td>\n",
       "      <td>2894</td>\n",
       "      <td>2729</td>\n",
       "      <td>0.143</td>\n",
       "      <td>0.143</td>\n",
       "      <td>2</td>\n",
       "    </tr>\n",
       "    <tr>\n",
       "      <th>2</th>\n",
       "      <td>00000001_002.png</td>\n",
       "      <td>Cardiomegaly|Effusion</td>\n",
       "      <td>2</td>\n",
       "      <td>1</td>\n",
       "      <td>58</td>\n",
       "      <td>M</td>\n",
       "      <td>PA</td>\n",
       "      <td>2500</td>\n",
       "      <td>2048</td>\n",
       "      <td>0.168</td>\n",
       "      <td>0.168</td>\n",
       "      <td>2</td>\n",
       "    </tr>\n",
       "    <tr>\n",
       "      <th>3</th>\n",
       "      <td>00000002_000.png</td>\n",
       "      <td>No Finding</td>\n",
       "      <td>0</td>\n",
       "      <td>2</td>\n",
       "      <td>81</td>\n",
       "      <td>M</td>\n",
       "      <td>PA</td>\n",
       "      <td>2500</td>\n",
       "      <td>2048</td>\n",
       "      <td>0.171</td>\n",
       "      <td>0.171</td>\n",
       "      <td>1</td>\n",
       "    </tr>\n",
       "    <tr>\n",
       "      <th>12</th>\n",
       "      <td>00000004_000.png</td>\n",
       "      <td>Mass|Nodule</td>\n",
       "      <td>0</td>\n",
       "      <td>4</td>\n",
       "      <td>82</td>\n",
       "      <td>M</td>\n",
       "      <td>AP</td>\n",
       "      <td>2500</td>\n",
       "      <td>2048</td>\n",
       "      <td>0.168</td>\n",
       "      <td>0.168</td>\n",
       "      <td>NaN</td>\n",
       "    </tr>\n",
       "  </tbody>\n",
       "</table>\n",
       "</div>"
      ],
      "text/plain": [
       "           img_index                  labels  follow_up  pa_id  pa_age  \\\n",
       "0   00000001_000.png            Cardiomegaly          0      1      58   \n",
       "1   00000001_001.png  Cardiomegaly|Emphysema          1      1      58   \n",
       "2   00000001_002.png   Cardiomegaly|Effusion          2      1      58   \n",
       "3   00000002_000.png              No Finding          0      2      81   \n",
       "12  00000004_000.png             Mass|Nodule          0      4      82   \n",
       "\n",
       "   pa_gender view_position  OriginalImage[Width  Height]  \\\n",
       "0          M            PA                 2682     2749   \n",
       "1          M            PA                 2894     2729   \n",
       "2          M            PA                 2500     2048   \n",
       "3          M            PA                 2500     2048   \n",
       "12         M            AP                 2500     2048   \n",
       "\n",
       "    OriginalImagePixelSpacing[x     y] marker  \n",
       "0                         0.143  0.143      2  \n",
       "1                         0.143  0.143      2  \n",
       "2                         0.168  0.168      2  \n",
       "3                         0.171  0.171      1  \n",
       "12                        0.168  0.168    NaN  "
      ]
     },
     "execution_count": 44,
     "metadata": {},
     "output_type": "execute_result"
    }
   ],
   "source": [
    "df_train_img.head()\n",
    "#following are the images to be trained"
   ]
  },
  {
   "cell_type": "code",
   "execution_count": 45,
   "metadata": {
    "scrolled": false
   },
   "outputs": [
    {
     "name": "stdout",
     "output_type": "stream",
     "text": [
      "['Cardiomegaly' 'Cardiomegaly|Emphysema' 'Cardiomegaly|Effusion'\n",
      " 'No Finding' 'Mass|Nodule' 'Infiltration' 'Effusion|Infiltration'\n",
      " 'Nodule' 'Emphysema' 'Effusion']\n"
     ]
    }
   ],
   "source": [
    "#checking images with various labels\n",
    "print(df_train_img['labels'].unique()[0:10])"
   ]
  },
  {
   "cell_type": "code",
   "execution_count": 46,
   "metadata": {},
   "outputs": [
    {
     "data": {
      "text/plain": [
       "False"
      ]
     },
     "execution_count": 46,
     "metadata": {},
     "output_type": "execute_result"
    }
   ],
   "source": [
    "df_train_img['labels'].empty "
   ]
  },
  {
   "cell_type": "markdown",
   "metadata": {},
   "source": [
    "Its good that there are no empty data points.\n",
    "Looking at the unique labels we can say that Cardiomegaly is not found to be a unique deceases proven in a Chest Xray.It is accompanied with other deceases. \n",
    "\n",
    "We will now select those images which has been marked as \"train_val\" set from the train_val_list.txt file provide in the data. Will then identify few images as have alook how a normal or cardiomegaly images look like. Although it doesnt have any sigificance on the training process.\n"
   ]
  },
  {
   "cell_type": "code",
   "execution_count": 47,
   "metadata": {
    "scrolled": true
   },
   "outputs": [
    {
     "name": "stderr",
     "output_type": "stream",
     "text": [
      "/Users/neeharikasinha/opt/anaconda3/lib/python3.7/site-packages/pandas/core/indexing.py:965: SettingWithCopyWarning: \n",
      "A value is trying to be set on a copy of a slice from a DataFrame.\n",
      "Try using .loc[row_indexer,col_indexer] = value instead\n",
      "\n",
      "See the caveats in the documentation: https://pandas.pydata.org/pandas-docs/stable/user_guide/indexing.html#returning-a-view-versus-a-copy\n",
      "  self.obj[item] = s\n"
     ]
    }
   ],
   "source": [
    "\n",
    "#assign 1 for 'No Finding' and 2 for 'Cardiomegaly'\n",
    "df_train_img.loc[df_train_img.labels.str.contains('No Finding'), 'marker'] = '1'\n",
    "\n",
    "df_train_img.loc[df_train_img.labels.str.contains('Cardiomegaly'), 'marker'] = '2'\n"
   ]
  },
  {
   "cell_type": "code",
   "execution_count": 48,
   "metadata": {
    "scrolled": false
   },
   "outputs": [
    {
     "data": {
      "text/html": [
       "<div>\n",
       "<style scoped>\n",
       "    .dataframe tbody tr th:only-of-type {\n",
       "        vertical-align: middle;\n",
       "    }\n",
       "\n",
       "    .dataframe tbody tr th {\n",
       "        vertical-align: top;\n",
       "    }\n",
       "\n",
       "    .dataframe thead th {\n",
       "        text-align: right;\n",
       "    }\n",
       "</style>\n",
       "<table border=\"1\" class=\"dataframe\">\n",
       "  <thead>\n",
       "    <tr style=\"text-align: right;\">\n",
       "      <th></th>\n",
       "      <th>img_index</th>\n",
       "      <th>labels</th>\n",
       "      <th>follow_up</th>\n",
       "      <th>pa_id</th>\n",
       "      <th>pa_age</th>\n",
       "      <th>pa_gender</th>\n",
       "      <th>view_position</th>\n",
       "      <th>OriginalImage[Width</th>\n",
       "      <th>Height]</th>\n",
       "      <th>OriginalImagePixelSpacing[x</th>\n",
       "      <th>y]</th>\n",
       "      <th>marker</th>\n",
       "    </tr>\n",
       "  </thead>\n",
       "  <tbody>\n",
       "    <tr>\n",
       "      <th>0</th>\n",
       "      <td>00000001_000.png</td>\n",
       "      <td>Cardiomegaly</td>\n",
       "      <td>0</td>\n",
       "      <td>1</td>\n",
       "      <td>58</td>\n",
       "      <td>M</td>\n",
       "      <td>PA</td>\n",
       "      <td>2682</td>\n",
       "      <td>2749</td>\n",
       "      <td>0.143</td>\n",
       "      <td>0.143</td>\n",
       "      <td>2</td>\n",
       "    </tr>\n",
       "    <tr>\n",
       "      <th>1</th>\n",
       "      <td>00000001_001.png</td>\n",
       "      <td>Cardiomegaly|Emphysema</td>\n",
       "      <td>1</td>\n",
       "      <td>1</td>\n",
       "      <td>58</td>\n",
       "      <td>M</td>\n",
       "      <td>PA</td>\n",
       "      <td>2894</td>\n",
       "      <td>2729</td>\n",
       "      <td>0.143</td>\n",
       "      <td>0.143</td>\n",
       "      <td>2</td>\n",
       "    </tr>\n",
       "    <tr>\n",
       "      <th>2</th>\n",
       "      <td>00000001_002.png</td>\n",
       "      <td>Cardiomegaly|Effusion</td>\n",
       "      <td>2</td>\n",
       "      <td>1</td>\n",
       "      <td>58</td>\n",
       "      <td>M</td>\n",
       "      <td>PA</td>\n",
       "      <td>2500</td>\n",
       "      <td>2048</td>\n",
       "      <td>0.168</td>\n",
       "      <td>0.168</td>\n",
       "      <td>2</td>\n",
       "    </tr>\n",
       "  </tbody>\n",
       "</table>\n",
       "</div>"
      ],
      "text/plain": [
       "          img_index                  labels  follow_up  pa_id  pa_age  \\\n",
       "0  00000001_000.png            Cardiomegaly          0      1      58   \n",
       "1  00000001_001.png  Cardiomegaly|Emphysema          1      1      58   \n",
       "2  00000001_002.png   Cardiomegaly|Effusion          2      1      58   \n",
       "\n",
       "  pa_gender view_position  OriginalImage[Width  Height]  \\\n",
       "0         M            PA                 2682     2749   \n",
       "1         M            PA                 2894     2729   \n",
       "2         M            PA                 2500     2048   \n",
       "\n",
       "   OriginalImagePixelSpacing[x     y] marker  \n",
       "0                        0.143  0.143      2  \n",
       "1                        0.143  0.143      2  \n",
       "2                        0.168  0.168      2  "
      ]
     },
     "execution_count": 48,
     "metadata": {},
     "output_type": "execute_result"
    }
   ],
   "source": [
    "df_train_img.head(3)"
   ]
  },
  {
   "cell_type": "code",
   "execution_count": 49,
   "metadata": {
    "scrolled": true
   },
   "outputs": [
    {
     "data": {
      "text/html": [
       "<div>\n",
       "<style scoped>\n",
       "    .dataframe tbody tr th:only-of-type {\n",
       "        vertical-align: middle;\n",
       "    }\n",
       "\n",
       "    .dataframe tbody tr th {\n",
       "        vertical-align: top;\n",
       "    }\n",
       "\n",
       "    .dataframe thead th {\n",
       "        text-align: right;\n",
       "    }\n",
       "</style>\n",
       "<table border=\"1\" class=\"dataframe\">\n",
       "  <thead>\n",
       "    <tr style=\"text-align: right;\">\n",
       "      <th></th>\n",
       "      <th>follow_up</th>\n",
       "      <th>pa_id</th>\n",
       "      <th>pa_age</th>\n",
       "      <th>OriginalImage[Width</th>\n",
       "      <th>Height]</th>\n",
       "      <th>OriginalImagePixelSpacing[x</th>\n",
       "      <th>y]</th>\n",
       "    </tr>\n",
       "  </thead>\n",
       "  <tbody>\n",
       "    <tr>\n",
       "      <th>count</th>\n",
       "      <td>86524.000000</td>\n",
       "      <td>86524.000000</td>\n",
       "      <td>86524.000000</td>\n",
       "      <td>86524.000000</td>\n",
       "      <td>86524.000000</td>\n",
       "      <td>86524.000000</td>\n",
       "      <td>86524.000000</td>\n",
       "    </tr>\n",
       "    <tr>\n",
       "      <th>mean</th>\n",
       "      <td>5.096621</td>\n",
       "      <td>13795.359415</td>\n",
       "      <td>46.870071</td>\n",
       "      <td>2641.784129</td>\n",
       "      <td>2505.106121</td>\n",
       "      <td>0.155384</td>\n",
       "      <td>0.155384</td>\n",
       "    </tr>\n",
       "    <tr>\n",
       "      <th>std</th>\n",
       "      <td>8.656941</td>\n",
       "      <td>8261.548258</td>\n",
       "      <td>16.835434</td>\n",
       "      <td>337.139196</td>\n",
       "      <td>403.957467</td>\n",
       "      <td>0.015615</td>\n",
       "      <td>0.015615</td>\n",
       "    </tr>\n",
       "    <tr>\n",
       "      <th>min</th>\n",
       "      <td>0.000000</td>\n",
       "      <td>1.000000</td>\n",
       "      <td>1.000000</td>\n",
       "      <td>1143.000000</td>\n",
       "      <td>966.000000</td>\n",
       "      <td>0.115000</td>\n",
       "      <td>0.115000</td>\n",
       "    </tr>\n",
       "    <tr>\n",
       "      <th>25%</th>\n",
       "      <td>0.000000</td>\n",
       "      <td>6773.750000</td>\n",
       "      <td>35.000000</td>\n",
       "      <td>2500.000000</td>\n",
       "      <td>2048.000000</td>\n",
       "      <td>0.143000</td>\n",
       "      <td>0.143000</td>\n",
       "    </tr>\n",
       "    <tr>\n",
       "      <th>50%</th>\n",
       "      <td>2.000000</td>\n",
       "      <td>13352.500000</td>\n",
       "      <td>49.000000</td>\n",
       "      <td>2520.000000</td>\n",
       "      <td>2544.000000</td>\n",
       "      <td>0.143000</td>\n",
       "      <td>0.143000</td>\n",
       "    </tr>\n",
       "    <tr>\n",
       "      <th>75%</th>\n",
       "      <td>6.000000</td>\n",
       "      <td>20185.000000</td>\n",
       "      <td>59.000000</td>\n",
       "      <td>2992.000000</td>\n",
       "      <td>2991.000000</td>\n",
       "      <td>0.168000</td>\n",
       "      <td>0.168000</td>\n",
       "    </tr>\n",
       "    <tr>\n",
       "      <th>max</th>\n",
       "      <td>108.000000</td>\n",
       "      <td>30801.000000</td>\n",
       "      <td>413.000000</td>\n",
       "      <td>3550.000000</td>\n",
       "      <td>3166.000000</td>\n",
       "      <td>0.198800</td>\n",
       "      <td>0.198800</td>\n",
       "    </tr>\n",
       "  </tbody>\n",
       "</table>\n",
       "</div>"
      ],
      "text/plain": [
       "          follow_up         pa_id        pa_age  OriginalImage[Width  \\\n",
       "count  86524.000000  86524.000000  86524.000000         86524.000000   \n",
       "mean       5.096621  13795.359415     46.870071          2641.784129   \n",
       "std        8.656941   8261.548258     16.835434           337.139196   \n",
       "min        0.000000      1.000000      1.000000          1143.000000   \n",
       "25%        0.000000   6773.750000     35.000000          2500.000000   \n",
       "50%        2.000000  13352.500000     49.000000          2520.000000   \n",
       "75%        6.000000  20185.000000     59.000000          2992.000000   \n",
       "max      108.000000  30801.000000    413.000000          3550.000000   \n",
       "\n",
       "            Height]  OriginalImagePixelSpacing[x            y]  \n",
       "count  86524.000000                 86524.000000  86524.000000  \n",
       "mean    2505.106121                     0.155384      0.155384  \n",
       "std      403.957467                     0.015615      0.015615  \n",
       "min      966.000000                     0.115000      0.115000  \n",
       "25%     2048.000000                     0.143000      0.143000  \n",
       "50%     2544.000000                     0.143000      0.143000  \n",
       "75%     2991.000000                     0.168000      0.168000  \n",
       "max     3166.000000                     0.198800      0.198800  "
      ]
     },
     "execution_count": 49,
     "metadata": {},
     "output_type": "execute_result"
    }
   ],
   "source": [
    "df_train_img.describe()"
   ]
  },
  {
   "cell_type": "markdown",
   "metadata": {},
   "source": [
    "No Findings are realted to those images where the patient is checking after the treatment as we can see that we have various Xray images with the same patient id"
   ]
  },
  {
   "cell_type": "code",
   "execution_count": 50,
   "metadata": {
    "scrolled": true
   },
   "outputs": [
    {
     "data": {
      "image/png": "[encoded data removed]",
      "text/plain": [
       "<Figure size 432x288 with 1 Axes>"
      ]
     },
     "metadata": {
      "needs_background": "light"
     },
     "output_type": "display_data"
    }
   ],
   "source": [
    "#Here we plot the data showing the repetation of the pa_id (patient id) which implies that there are ChestXray images for\n",
    "# for the followup of the patient.\n",
    "repeat_id=df_train_img.groupby('pa_id').size()\n",
    "plt.hist(repeat_id, bins=np.arange(repeat_id.min(), repeat_id.max()+1))\n",
    " \n",
    "plt.xlabel('Number of times id visits')\n",
    "plt.ylabel('Frequency of accurance')\n",
    "plt.xlim(0,30)\n",
    "plt.show()"
   ]
  },
  {
   "cell_type": "markdown",
   "metadata": {},
   "source": [
    "The result show that the frequency of visits or the followup is mostly 5. There are some long lasting visits too with maximum of 27"
   ]
  },
  {
   "cell_type": "code",
   "execution_count": 51,
   "metadata": {},
   "outputs": [],
   "source": [
    "df_normal=df_train_img[df_train_img['marker'] == '1']"
   ]
  },
  {
   "cell_type": "code",
   "execution_count": 52,
   "metadata": {},
   "outputs": [],
   "source": [
    "df_cardiomegaly=df_train_img[df_train_img['marker'] == '2']"
   ]
  },
  {
   "cell_type": "code",
   "execution_count": 53,
   "metadata": {
    "scrolled": false
   },
   "outputs": [
    {
     "data": {
      "text/html": [
       "<div>\n",
       "<style scoped>\n",
       "    .dataframe tbody tr th:only-of-type {\n",
       "        vertical-align: middle;\n",
       "    }\n",
       "\n",
       "    .dataframe tbody tr th {\n",
       "        vertical-align: top;\n",
       "    }\n",
       "\n",
       "    .dataframe thead th {\n",
       "        text-align: right;\n",
       "    }\n",
       "</style>\n",
       "<table border=\"1\" class=\"dataframe\">\n",
       "  <thead>\n",
       "    <tr style=\"text-align: right;\">\n",
       "      <th></th>\n",
       "      <th>img_index</th>\n",
       "      <th>labels</th>\n",
       "      <th>follow_up</th>\n",
       "      <th>pa_id</th>\n",
       "      <th>pa_age</th>\n",
       "      <th>pa_gender</th>\n",
       "      <th>view_position</th>\n",
       "      <th>OriginalImage[Width</th>\n",
       "      <th>Height]</th>\n",
       "      <th>OriginalImagePixelSpacing[x</th>\n",
       "      <th>y]</th>\n",
       "      <th>marker</th>\n",
       "    </tr>\n",
       "  </thead>\n",
       "  <tbody>\n",
       "    <tr>\n",
       "      <th>3</th>\n",
       "      <td>00000002_000.png</td>\n",
       "      <td>No Finding</td>\n",
       "      <td>0</td>\n",
       "      <td>2</td>\n",
       "      <td>81</td>\n",
       "      <td>M</td>\n",
       "      <td>PA</td>\n",
       "      <td>2500</td>\n",
       "      <td>2048</td>\n",
       "      <td>0.171</td>\n",
       "      <td>0.171</td>\n",
       "      <td>1</td>\n",
       "    </tr>\n",
       "    <tr>\n",
       "      <th>13</th>\n",
       "      <td>00000005_000.png</td>\n",
       "      <td>No Finding</td>\n",
       "      <td>0</td>\n",
       "      <td>5</td>\n",
       "      <td>69</td>\n",
       "      <td>F</td>\n",
       "      <td>PA</td>\n",
       "      <td>2048</td>\n",
       "      <td>2500</td>\n",
       "      <td>0.168</td>\n",
       "      <td>0.168</td>\n",
       "      <td>1</td>\n",
       "    </tr>\n",
       "    <tr>\n",
       "      <th>14</th>\n",
       "      <td>00000005_001.png</td>\n",
       "      <td>No Finding</td>\n",
       "      <td>1</td>\n",
       "      <td>5</td>\n",
       "      <td>69</td>\n",
       "      <td>F</td>\n",
       "      <td>AP</td>\n",
       "      <td>2500</td>\n",
       "      <td>2048</td>\n",
       "      <td>0.168</td>\n",
       "      <td>0.168</td>\n",
       "      <td>1</td>\n",
       "    </tr>\n",
       "    <tr>\n",
       "      <th>15</th>\n",
       "      <td>00000005_002.png</td>\n",
       "      <td>No Finding</td>\n",
       "      <td>2</td>\n",
       "      <td>5</td>\n",
       "      <td>69</td>\n",
       "      <td>F</td>\n",
       "      <td>AP</td>\n",
       "      <td>2500</td>\n",
       "      <td>2048</td>\n",
       "      <td>0.168</td>\n",
       "      <td>0.168</td>\n",
       "      <td>1</td>\n",
       "    </tr>\n",
       "    <tr>\n",
       "      <th>16</th>\n",
       "      <td>00000005_003.png</td>\n",
       "      <td>No Finding</td>\n",
       "      <td>3</td>\n",
       "      <td>5</td>\n",
       "      <td>69</td>\n",
       "      <td>F</td>\n",
       "      <td>PA</td>\n",
       "      <td>2992</td>\n",
       "      <td>2991</td>\n",
       "      <td>0.143</td>\n",
       "      <td>0.143</td>\n",
       "      <td>1</td>\n",
       "    </tr>\n",
       "  </tbody>\n",
       "</table>\n",
       "</div>"
      ],
      "text/plain": [
       "           img_index      labels  follow_up  pa_id  pa_age pa_gender  \\\n",
       "3   00000002_000.png  No Finding          0      2      81         M   \n",
       "13  00000005_000.png  No Finding          0      5      69         F   \n",
       "14  00000005_001.png  No Finding          1      5      69         F   \n",
       "15  00000005_002.png  No Finding          2      5      69         F   \n",
       "16  00000005_003.png  No Finding          3      5      69         F   \n",
       "\n",
       "   view_position  OriginalImage[Width  Height]  OriginalImagePixelSpacing[x  \\\n",
       "3             PA                 2500     2048                        0.171   \n",
       "13            PA                 2048     2500                        0.168   \n",
       "14            AP                 2500     2048                        0.168   \n",
       "15            AP                 2500     2048                        0.168   \n",
       "16            PA                 2992     2991                        0.143   \n",
       "\n",
       "       y] marker  \n",
       "3   0.171      1  \n",
       "13  0.168      1  \n",
       "14  0.168      1  \n",
       "15  0.168      1  \n",
       "16  0.143      1  "
      ]
     },
     "execution_count": 53,
     "metadata": {},
     "output_type": "execute_result"
    }
   ],
   "source": [
    "df_normal.head()"
   ]
  },
  {
   "cell_type": "code",
   "execution_count": 35,
   "metadata": {
    "scrolled": true
   },
   "outputs": [
    {
     "data": {
      "text/html": [
       "<div>\n",
       "<style scoped>\n",
       "    .dataframe tbody tr th:only-of-type {\n",
       "        vertical-align: middle;\n",
       "    }\n",
       "\n",
       "    .dataframe tbody tr th {\n",
       "        vertical-align: top;\n",
       "    }\n",
       "\n",
       "    .dataframe thead th {\n",
       "        text-align: right;\n",
       "    }\n",
       "</style>\n",
       "<table border=\"1\" class=\"dataframe\">\n",
       "  <thead>\n",
       "    <tr style=\"text-align: right;\">\n",
       "      <th></th>\n",
       "      <th>img_index</th>\n",
       "      <th>labels</th>\n",
       "      <th>follow_up</th>\n",
       "      <th>pa_id</th>\n",
       "      <th>pa_age</th>\n",
       "      <th>pa_gender</th>\n",
       "      <th>view_position</th>\n",
       "      <th>OriginalImage[Width</th>\n",
       "      <th>Height]</th>\n",
       "      <th>OriginalImagePixelSpacing[x</th>\n",
       "      <th>y]</th>\n",
       "      <th>marker</th>\n",
       "    </tr>\n",
       "  </thead>\n",
       "  <tbody>\n",
       "    <tr>\n",
       "      <th>0</th>\n",
       "      <td>00000001_000.png</td>\n",
       "      <td>Cardiomegaly</td>\n",
       "      <td>0</td>\n",
       "      <td>1</td>\n",
       "      <td>58</td>\n",
       "      <td>M</td>\n",
       "      <td>PA</td>\n",
       "      <td>2682</td>\n",
       "      <td>2749</td>\n",
       "      <td>0.143</td>\n",
       "      <td>0.143</td>\n",
       "      <td>2</td>\n",
       "    </tr>\n",
       "    <tr>\n",
       "      <th>1</th>\n",
       "      <td>00000001_001.png</td>\n",
       "      <td>Cardiomegaly|Emphysema</td>\n",
       "      <td>1</td>\n",
       "      <td>1</td>\n",
       "      <td>58</td>\n",
       "      <td>M</td>\n",
       "      <td>PA</td>\n",
       "      <td>2894</td>\n",
       "      <td>2729</td>\n",
       "      <td>0.143</td>\n",
       "      <td>0.143</td>\n",
       "      <td>2</td>\n",
       "    </tr>\n",
       "    <tr>\n",
       "      <th>2</th>\n",
       "      <td>00000001_002.png</td>\n",
       "      <td>Cardiomegaly|Effusion</td>\n",
       "      <td>2</td>\n",
       "      <td>1</td>\n",
       "      <td>58</td>\n",
       "      <td>M</td>\n",
       "      <td>PA</td>\n",
       "      <td>2500</td>\n",
       "      <td>2048</td>\n",
       "      <td>0.168</td>\n",
       "      <td>0.168</td>\n",
       "      <td>2</td>\n",
       "    </tr>\n",
       "    <tr>\n",
       "      <th>23</th>\n",
       "      <td>00000008_000.png</td>\n",
       "      <td>Cardiomegaly</td>\n",
       "      <td>0</td>\n",
       "      <td>8</td>\n",
       "      <td>69</td>\n",
       "      <td>F</td>\n",
       "      <td>PA</td>\n",
       "      <td>2048</td>\n",
       "      <td>2500</td>\n",
       "      <td>0.171</td>\n",
       "      <td>0.171</td>\n",
       "      <td>2</td>\n",
       "    </tr>\n",
       "    <tr>\n",
       "      <th>63</th>\n",
       "      <td>00000013_025.png</td>\n",
       "      <td>Cardiomegaly|Infiltration|Mass|Nodule</td>\n",
       "      <td>25</td>\n",
       "      <td>13</td>\n",
       "      <td>56</td>\n",
       "      <td>M</td>\n",
       "      <td>PA</td>\n",
       "      <td>2992</td>\n",
       "      <td>2991</td>\n",
       "      <td>0.143</td>\n",
       "      <td>0.143</td>\n",
       "      <td>2</td>\n",
       "    </tr>\n",
       "  </tbody>\n",
       "</table>\n",
       "</div>"
      ],
      "text/plain": [
       "           img_index                                 labels  follow_up  pa_id  \\\n",
       "0   00000001_000.png                           Cardiomegaly          0      1   \n",
       "1   00000001_001.png                 Cardiomegaly|Emphysema          1      1   \n",
       "2   00000001_002.png                  Cardiomegaly|Effusion          2      1   \n",
       "23  00000008_000.png                           Cardiomegaly          0      8   \n",
       "63  00000013_025.png  Cardiomegaly|Infiltration|Mass|Nodule         25     13   \n",
       "\n",
       "    pa_age pa_gender view_position  OriginalImage[Width  Height]  \\\n",
       "0       58         M            PA                 2682     2749   \n",
       "1       58         M            PA                 2894     2729   \n",
       "2       58         M            PA                 2500     2048   \n",
       "23      69         F            PA                 2048     2500   \n",
       "63      56         M            PA                 2992     2991   \n",
       "\n",
       "    OriginalImagePixelSpacing[x     y] marker  \n",
       "0                         0.143  0.143      2  \n",
       "1                         0.143  0.143      2  \n",
       "2                         0.168  0.168      2  \n",
       "23                        0.171  0.171      2  \n",
       "63                        0.143  0.143      2  "
      ]
     },
     "execution_count": 35,
     "metadata": {},
     "output_type": "execute_result"
    }
   ],
   "source": [
    "df_cardiomegaly.head()"
   ]
  },
  {
   "cell_type": "code",
   "execution_count": 54,
   "metadata": {},
   "outputs": [
    {
     "name": "stdout",
     "output_type": "stream",
     "text": [
      "Number of images which do not come under normal or cardiomegaly: 34317\n"
     ]
    }
   ],
   "source": [
    "#number of images which do not come under normal or cardiomegaly\n",
    "print('Number of images which do not come under normal or cardiomegaly:',len(df_train_img)-(len(df_normal)+len(df_cardiomegaly)))"
   ]
  },
  {
   "cell_type": "code",
   "execution_count": 55,
   "metadata": {
    "scrolled": true
   },
   "outputs": [
    {
     "name": "stdout",
     "output_type": "stream",
     "text": [
      "Number of raw images being analysed: 52207\n"
     ]
    }
   ],
   "source": [
    "#number of raw images having deceases\n",
    "print('Number of raw images being analysed:',len(df_normal)+len(df_cardiomegaly))"
   ]
  },
  {
   "cell_type": "code",
   "execution_count": 56,
   "metadata": {},
   "outputs": [
    {
     "name": "stdout",
     "output_type": "stream",
     "text": [
      "Total number of images in train data: 86524\n"
     ]
    }
   ],
   "source": [
    "#Total number of images under training data set \n",
    "print('Total number of images in train data:', len(train_val_list))"
   ]
  },
  {
   "cell_type": "code",
   "execution_count": 57,
   "metadata": {
    "scrolled": true
   },
   "outputs": [
    {
     "name": "stdout",
     "output_type": "stream",
     "text": [
      "Fraction of normal images: 58.365309047200775\n"
     ]
    }
   ],
   "source": [
    "#Fraction of data in normal category\n",
    "print(\"Fraction of normal images:\",(len(df_normal)/len(train_val_list))*100)"
   ]
  },
  {
   "cell_type": "code",
   "execution_count": 58,
   "metadata": {
    "scrolled": true
   },
   "outputs": [
    {
     "name": "stdout",
     "output_type": "stream",
     "text": [
      "Fraction of normal images: 1.9728630206647866\n"
     ]
    }
   ],
   "source": [
    "#Fraction of data in cardiomegaly category\n",
    "print(\"Fraction of normal images:\",(len(df_cardiomegaly)/len(train_val_list))*100)"
   ]
  }
 ],
 "metadata": {
  "kernelspec": {
   "display_name": "Python 3",
   "language": "python",
   "name": "python3"
  },
  "language_info": {
   "codemirror_mode": {
    "name": "ipython",
    "version": 3
   },
   "file_extension": ".py",
   "mimetype": "text/x-python",
   "name": "python",
   "nbconvert_exporter": "python",
   "pygments_lexer": "ipython3",
   "version": "3.7.6"
  }
 },
 "nbformat": 4,
 "nbformat_minor": 4
}
