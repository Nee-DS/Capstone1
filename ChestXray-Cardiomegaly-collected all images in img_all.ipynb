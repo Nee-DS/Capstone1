{
 "cells": [
  {
   "cell_type": "code",
   "execution_count": 1,
   "metadata": {
    "scrolled": false
   },
   "outputs": [
    {
     "name": "stderr",
     "output_type": "stream",
     "text": [
      "Using TensorFlow backend.\n"
     ]
    }
   ],
   "source": [
    "# General libraries\n",
    "import os\n",
    "import numpy as np\n",
    "import pandas as pd \n",
    "import random\n",
    "import cv2\n",
    "import matplotlib.pyplot as plt\n",
    "%matplotlib inline\n",
    "\n",
    "# Deep learning libraries\n",
    "import keras.backend as K\n",
    "from keras.models import Model, Sequential\n",
    "from keras.layers import Input, Dense, Flatten, Dropout, BatchNormalization\n",
    "from keras.layers import Conv2D, SeparableConv2D, MaxPool2D, LeakyReLU, Activation\n",
    "from keras.optimizers import Adam\n",
    "from keras.preprocessing.image import ImageDataGenerator\n",
    "from keras.callbacks import ModelCheckpoint, ReduceLROnPlateau, EarlyStopping\n",
    "import tensorflow as tf\n",
    "\n",
    "# Setting seeds for reproducibility\n",
    "seed = 232\n",
    "np.random.seed(seed)\n",
    "tf.random.set_seed(seed)"
   ]
  },
  {
   "cell_type": "code",
   "execution_count": 2,
   "metadata": {},
   "outputs": [],
   "source": [
    "#reading the data\n",
    "df=pd.read_csv(\"Data_Entry_2017.csv\") "
   ]
  },
  {
   "cell_type": "code",
   "execution_count": null,
   "metadata": {},
   "outputs": [],
   "source": [
    "#collecting all images in one folder\n",
    "import shutil, os\n",
    "src='/Users/neeharikasinha/Documents/datascience-course/Chestxray-cardiomegaly/images1/'\n",
    "dst='/Users/neeharikasinha/Documents/datascience-course/Chestxray-cardiomegaly/img_all/'\n",
    "\n",
    "files = os.listdir(src)\n",
    "for f in files:\n",
    "    shutil.copyfile(src+f,dst+f)"
   ]
  },
  {
   "cell_type": "code",
   "execution_count": null,
   "metadata": {},
   "outputs": [],
   "source": [
    "#collecting all images in one folder\n",
    "src1='/Users/neeharikasinha/Documents/datascience-course/Chestxray-cardiomegaly/images2/'\n",
    "dst='/Users/neeharikasinha/Documents/datascience-course/Chestxray-cardiomegaly/img_all/'\n",
    "\n",
    "files = os.listdir(src1)\n",
    "for f in files:\n",
    "    shutil.copyfile(src1+f,dst+f)"
   ]
  },
  {
   "cell_type": "code",
   "execution_count": null,
   "metadata": {},
   "outputs": [],
   "source": [
    "#collecting all images in one folder\n",
    "src2='/Users/neeharikasinha/Documents/datascience-course/Chestxray-cardiomegaly/images3/'\n",
    "dst='/Users/neeharikasinha/Documents/datascience-course/Chestxray-cardiomegaly/img_all/'\n",
    "\n",
    "files = os.listdir(src2)\n",
    "for f in files:\n",
    "    shutil.copyfile(src2+f,dst+f)"
   ]
  },
  {
   "cell_type": "code",
   "execution_count": null,
   "metadata": {},
   "outputs": [],
   "source": [
    "#collecting all images in one folder\n",
    "src3='/Users/neeharikasinha/Documents/datascience-course/Chestxray-cardiomegaly/images4/'\n",
    "dst='/Users/neeharikasinha/Documents/datascience-course/Chestxray-cardiomegaly/img_all/'\n",
    "\n",
    "files = os.listdir(src3)\n",
    "for f in files:\n",
    "    shutil.copyfile(src3+f,dst+f)"
   ]
  },
  {
   "cell_type": "code",
   "execution_count": null,
   "metadata": {},
   "outputs": [],
   "source": [
    "#collecting all images in one folder\n",
    "src4='/Users/neeharikasinha/Documents/datascience-course/Chestxray-cardiomegaly/images5/'\n",
    "dst='/Users/neeharikasinha/Documents/datascience-course/Chestxray-cardiomegaly/img_all/'\n",
    "\n",
    "files = os.listdir(src4)\n",
    "for f in files:\n",
    "    shutil.copyfile(src4+f,dst+f)"
   ]
  },
  {
   "cell_type": "code",
   "execution_count": null,
   "metadata": {},
   "outputs": [],
   "source": [
    "#collecting all images in one folder\n",
    "src5='/Users/neeharikasinha/Documents/datascience-course/Chestxray-cardiomegaly/images6/'\n",
    "dst='/Users/neeharikasinha/Documents/datascience-course/Chestxray-cardiomegaly/img_all/'\n",
    "\n",
    "files = os.listdir(src5)\n",
    "for f in files:\n",
    "    shutil.copyfile(src5+f,dst+f)"
   ]
  },
  {
   "cell_type": "code",
   "execution_count": null,
   "metadata": {},
   "outputs": [],
   "source": [
    "#collecting all images in one folder\n",
    "src6='/Users/neeharikasinha/Documents/datascience-course/Chestxray-cardiomegaly/images7/'\n",
    "dst='/Users/neeharikasinha/Documents/datascience-course/Chestxray-cardiomegaly/img_all/'\n",
    "\n",
    "files = os.listdir(src6)\n",
    "for f in files:\n",
    "    shutil.copyfile(src6+f,dst+f)"
   ]
  },
  {
   "cell_type": "code",
   "execution_count": null,
   "metadata": {},
   "outputs": [],
   "source": [
    "#collecting all images in one folder\n",
    "src7='/Users/neeharikasinha/Documents/datascience-course/Chestxray-cardiomegaly/images8/'\n",
    "dst='/Users/neeharikasinha/Documents/datascience-course/Chestxray-cardiomegaly/img_all/'\n",
    "\n",
    "files = os.listdir(src7)\n",
    "for f in files:\n",
    "    shutil.copyfile(src7+f,dst+f)"
   ]
  },
  {
   "cell_type": "code",
   "execution_count": null,
   "metadata": {},
   "outputs": [],
   "source": [
    "#collecting all images in one folder\n",
    "src8='/Users/neeharikasinha/Documents/datascience-course/Chestxray-cardiomegaly/images9/'\n",
    "dst='/Users/neeharikasinha/Documents/datascience-course/Chestxray-cardiomegaly/img_all/'\n",
    "\n",
    "files = os.listdir(src8)\n",
    "for f in files:\n",
    "    shutil.copyfile(src8+f,dst+f)"
   ]
  },
  {
   "cell_type": "code",
   "execution_count": null,
   "metadata": {},
   "outputs": [],
   "source": [
    "#collecting all images in one folder\n",
    "src9='/Users/neeharikasinha/Documents/datascience-course/Chestxray-cardiomegaly/images10/'\n",
    "dst='/Users/neeharikasinha/Documents/datascience-course/Chestxray-cardiomegaly/img_all/'\n",
    "\n",
    "files = os.listdir(src9)\n",
    "for f in files:\n",
    "    shutil.copyfile(src9+f,dst+f)"
   ]
  },
  {
   "cell_type": "code",
   "execution_count": null,
   "metadata": {},
   "outputs": [],
   "source": [
    "src10='/Users/neeharikasinha/Documents/datascience-course/Chestxray-cardiomegaly/images11/'\n",
    "dst='/Users/neeharikasinha/Documents/datascience-course/Chestxray-cardiomegaly/img_all/'\n",
    "\n",
    "files = os.listdir(src10)\n",
    "for f in files:\n",
    "    shutil.copyfile(src10+f,dst+f)"
   ]
  },
  {
   "cell_type": "code",
   "execution_count": null,
   "metadata": {},
   "outputs": [],
   "source": [
    "#collecting all images in one folder\n",
    "src11='/Users/neeharikasinha/Documents/datascience-course/Chestxray-cardiomegaly/images12/'\n",
    "dst='/Users/neeharikasinha/Documents/datascience-course/Chestxray-cardiomegaly/img_all/'\n",
    "\n",
    "files = os.listdir(src11)\n",
    "for f in files:\n",
    "    shutil.copyfile(src11+f,dst+f)"
   ]
  },
  {
   "cell_type": "code",
   "execution_count": 4,
   "metadata": {},
   "outputs": [],
   "source": [
    "#convert the files in train_val_list.txt to a python list \n",
    "\n",
    "train_val_list= open('/Users/neeharikasinha/Documents/datascience-course/Chestxray-cardiomegaly/train_val_list.txt').read().split()\n",
    "\n"
   ]
  },
  {
   "cell_type": "code",
   "execution_count": 11,
   "metadata": {
    "scrolled": true
   },
   "outputs": [
    {
     "name": "stdout",
     "output_type": "stream",
     "text": [
      "['00000001_000.png', '00000001_001.png', '00000001_002.png', '00000002_000.png', '00000004_000.png']\n"
     ]
    }
   ],
   "source": [
    "print(train_val_list[0:5])"
   ]
  },
  {
   "cell_type": "code",
   "execution_count": 12,
   "metadata": {},
   "outputs": [
    {
     "name": "stdout",
     "output_type": "stream",
     "text": [
      "86524\n"
     ]
    }
   ],
   "source": [
    "print(len(train_val_list))"
   ]
  },
  {
   "cell_type": "code",
   "execution_count": 13,
   "metadata": {},
   "outputs": [],
   "source": [
    "#moving images marked as trained from img_all to train_img folder\n",
    "# will be applying the Deep Learning librries on these images\n",
    "import shutil, os\n",
    "source='/Users/neeharikasinha/Documents/datascience-course/Chestxray-cardiomegaly/img_all/'\n",
    "destination='/Users/neeharikasinha/Documents/datascience-course/Chestxray-cardiomegaly/train_img/'\n",
    "\n",
    "files = train_val_list\n",
    "for f in files:\n",
    "    shutil.copyfile(source+f,destination+f)"
   ]
  }
 ],
 "metadata": {
  "kernelspec": {
   "display_name": "Python 3",
   "language": "python",
   "name": "python3"
  },
  "language_info": {
   "codemirror_mode": {
    "name": "ipython",
    "version": 3
   },
   "file_extension": ".py",
   "mimetype": "text/x-python",
   "name": "python",
   "nbconvert_exporter": "python",
   "pygments_lexer": "ipython3",
   "version": "3.7.6"
  }
 },
 "nbformat": 4,
 "nbformat_minor": 2
}
