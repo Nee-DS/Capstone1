{
 "cells": [
  {
   "cell_type": "markdown",
   "metadata": {},
   "source": [
    "# This code is to creat folders and move the images masked as Train , Validation and Test and giving labels as Nomal and Cardiomegaly, according to the list provided in the data source \n",
    "https://nihcc.app.box.com/v/ChestXray-NIHCC"
   ]
  },
  {
   "cell_type": "code",
   "execution_count": 114,
   "metadata": {},
   "outputs": [],
   "source": [
    "# General libraries\n",
    "import os\n",
    "import shutil\n",
    "import numpy as np\n",
    "import pandas as pd \n",
    "import random\n",
    "import cv2\n",
    "import matplotlib.pyplot as plt\n",
    "%matplotlib inline\n",
    "import shutil\n",
    "from sklearn.model_selection import train_test_split\n",
    "\n",
    "# Deep learning libraries\n",
    "import keras.backend as K\n",
    "from keras.models import Model, Sequential\n",
    "from keras.layers import Input, Dense, Flatten, Dropout, BatchNormalization\n",
    "from keras.layers import Conv2D, SeparableConv2D, MaxPool2D, LeakyReLU, Activation\n",
    "from keras.optimizers import Adam\n",
    "from keras.preprocessing.image import ImageDataGenerator\n",
    "from keras.callbacks import ModelCheckpoint, ReduceLROnPlateau, EarlyStopping\n",
    "import tensorflow as tf\n",
    "\n",
    "# Setting seeds for reproducibility\n",
    "seed = 232\n",
    "np.random.seed(seed)\n",
    "tf.random.set_seed(seed)"
   ]
  },
  {
   "cell_type": "code",
   "execution_count": 115,
   "metadata": {},
   "outputs": [],
   "source": [
    "# Create directory, if directory exists remove and create one \n",
    "\n",
    "def create_directory(directory_path):\n",
    "    if os.path.exists(directory_path):\n",
    "        shutil.rmtree(directory_path) \n",
    "        os.mkdir(directory_path)\n",
    "    else:\n",
    "        os.mkdir(directory_path)"
   ]
  },
  {
   "cell_type": "code",
   "execution_count": 116,
   "metadata": {},
   "outputs": [],
   "source": [
    "#moving files from one folder to other,     \n",
    "def move_allfiles (src,dst):\n",
    "    if os.path.exists(src):\n",
    "        files = os.listdir(src) \n",
    "        for f in files:\n",
    "            shutil.copyfile(src+f,dst+f)"
   ]
  },
  {
   "cell_type": "code",
   "execution_count": 117,
   "metadata": {},
   "outputs": [],
   "source": [
    "#moving list of files from one folder to other,\n",
    "def move_listfiles (src,dst,img_list):\n",
    "    if os.path.exists(src):\n",
    "        files = img_list\n",
    "        for f in files:\n",
    "            shutil.copyfile(src+f,dst+f)"
   ]
  },
  {
   "cell_type": "code",
   "execution_count": 118,
   "metadata": {},
   "outputs": [],
   "source": [
    "#reading the data\n",
    "df=pd.read_csv(\"Data_Entry_2017_v2020.csv\") "
   ]
  },
  {
   "cell_type": "code",
   "execution_count": 119,
   "metadata": {},
   "outputs": [],
   "source": [
    "#renaming the columns names\n",
    "df.rename(columns={'Image Index':'img_index','Finding Labels':'labels','Follow-up #':'follow_up','Patient ID':'pa_id',\n",
    "                   'Patient Age':'pa_age','Patient Gender':'pa_gender','View Position':'view_position'}, inplace=True)"
   ]
  },
  {
   "cell_type": "code",
   "execution_count": 120,
   "metadata": {
    "scrolled": false
   },
   "outputs": [
    {
     "data": {
      "text/plain": [
       "Index(['img_index', 'labels', 'follow_up', 'pa_id', 'pa_age', 'pa_gender',\n",
       "       'view_position', 'OriginalImage[Width', 'Height]',\n",
       "       'OriginalImagePixelSpacing[x', 'y]'],\n",
       "      dtype='object')"
      ]
     },
     "execution_count": 120,
     "metadata": {},
     "output_type": "execute_result"
    }
   ],
   "source": [
    "df.columns"
   ]
  },
  {
   "cell_type": "code",
   "execution_count": 121,
   "metadata": {},
   "outputs": [
    {
     "data": {
      "text/plain": [
       "['00000001_001.png', '00000001_002.png']"
      ]
     },
     "execution_count": 121,
     "metadata": {},
     "output_type": "execute_result"
    }
   ],
   "source": [
    "#convert the files in train_val_list.txt to a python list \n",
    "\n",
    "train_val_list= open('train_val_list.txt').read().split()\n",
    "train_val_list[1:3]"
   ]
  },
  {
   "cell_type": "code",
   "execution_count": 122,
   "metadata": {
    "scrolled": true
   },
   "outputs": [
    {
     "data": {
      "text/plain": [
       "86524"
      ]
     },
     "execution_count": 122,
     "metadata": {},
     "output_type": "execute_result"
    }
   ],
   "source": [
    "len(train_val_list)"
   ]
  },
  {
   "cell_type": "markdown",
   "metadata": {},
   "source": [
    "In the link provided the CXR, the list of images are provided to be considered as train and test, \n",
    "but not the validation list. I used the train_test plit method to randomly select validation data\n",
    "as it is good to validate the data before testing a model."
   ]
  },
  {
   "cell_type": "code",
   "execution_count": 123,
   "metadata": {},
   "outputs": [],
   "source": [
    "np.random.shuffle(train_val_list)"
   ]
  },
  {
   "cell_type": "code",
   "execution_count": 124,
   "metadata": {},
   "outputs": [],
   "source": [
    "train_img, valid_img = train_test_split(train_val_list, \n",
    "                                   test_size = 0.30)"
   ]
  },
  {
   "cell_type": "code",
   "execution_count": 125,
   "metadata": {
    "scrolled": true
   },
   "outputs": [
    {
     "data": {
      "text/plain": [
       "['00028086_001.png', '00023743_000.png', '00014691_001.png']"
      ]
     },
     "execution_count": 125,
     "metadata": {},
     "output_type": "execute_result"
    }
   ],
   "source": [
    "train_img[0:3]"
   ]
  },
  {
   "cell_type": "code",
   "execution_count": 126,
   "metadata": {},
   "outputs": [
    {
     "name": "stdout",
     "output_type": "stream",
     "text": [
      "60566 25958 86524\n"
     ]
    }
   ],
   "source": [
    "print(len(train_img),len(valid_img), len(train_val_list))"
   ]
  },
  {
   "cell_type": "code",
   "execution_count": 127,
   "metadata": {},
   "outputs": [],
   "source": [
    "#Selecting the images under train_img from Data_Entry_2017.csv file\n",
    "\n",
    "df_train_img = df[df.img_index.isin(train_img)]"
   ]
  },
  {
   "cell_type": "code",
   "execution_count": 128,
   "metadata": {
    "scrolled": true
   },
   "outputs": [
    {
     "data": {
      "text/html": [
       "<div>\n",
       "<style scoped>\n",
       "    .dataframe tbody tr th:only-of-type {\n",
       "        vertical-align: middle;\n",
       "    }\n",
       "\n",
       "    .dataframe tbody tr th {\n",
       "        vertical-align: top;\n",
       "    }\n",
       "\n",
       "    .dataframe thead th {\n",
       "        text-align: right;\n",
       "    }\n",
       "</style>\n",
       "<table border=\"1\" class=\"dataframe\">\n",
       "  <thead>\n",
       "    <tr style=\"text-align: right;\">\n",
       "      <th></th>\n",
       "      <th>img_index</th>\n",
       "      <th>labels</th>\n",
       "      <th>follow_up</th>\n",
       "      <th>pa_id</th>\n",
       "      <th>pa_age</th>\n",
       "      <th>pa_gender</th>\n",
       "      <th>view_position</th>\n",
       "      <th>OriginalImage[Width</th>\n",
       "      <th>Height]</th>\n",
       "      <th>OriginalImagePixelSpacing[x</th>\n",
       "      <th>y]</th>\n",
       "    </tr>\n",
       "  </thead>\n",
       "  <tbody>\n",
       "    <tr>\n",
       "      <th>1</th>\n",
       "      <td>00000001_001.png</td>\n",
       "      <td>Cardiomegaly|Emphysema</td>\n",
       "      <td>1</td>\n",
       "      <td>1</td>\n",
       "      <td>58</td>\n",
       "      <td>M</td>\n",
       "      <td>PA</td>\n",
       "      <td>2894</td>\n",
       "      <td>2729</td>\n",
       "      <td>0.143</td>\n",
       "      <td>0.143</td>\n",
       "    </tr>\n",
       "    <tr>\n",
       "      <th>2</th>\n",
       "      <td>00000001_002.png</td>\n",
       "      <td>Cardiomegaly|Effusion</td>\n",
       "      <td>2</td>\n",
       "      <td>1</td>\n",
       "      <td>58</td>\n",
       "      <td>M</td>\n",
       "      <td>PA</td>\n",
       "      <td>2500</td>\n",
       "      <td>2048</td>\n",
       "      <td>0.168</td>\n",
       "      <td>0.168</td>\n",
       "    </tr>\n",
       "    <tr>\n",
       "      <th>3</th>\n",
       "      <td>00000002_000.png</td>\n",
       "      <td>No Finding</td>\n",
       "      <td>0</td>\n",
       "      <td>2</td>\n",
       "      <td>80</td>\n",
       "      <td>M</td>\n",
       "      <td>PA</td>\n",
       "      <td>2500</td>\n",
       "      <td>2048</td>\n",
       "      <td>0.171</td>\n",
       "      <td>0.171</td>\n",
       "    </tr>\n",
       "    <tr>\n",
       "      <th>12</th>\n",
       "      <td>00000004_000.png</td>\n",
       "      <td>Mass|Nodule</td>\n",
       "      <td>0</td>\n",
       "      <td>4</td>\n",
       "      <td>82</td>\n",
       "      <td>M</td>\n",
       "      <td>AP</td>\n",
       "      <td>2500</td>\n",
       "      <td>2048</td>\n",
       "      <td>0.168</td>\n",
       "      <td>0.168</td>\n",
       "    </tr>\n",
       "    <tr>\n",
       "      <th>13</th>\n",
       "      <td>00000005_000.png</td>\n",
       "      <td>No Finding</td>\n",
       "      <td>0</td>\n",
       "      <td>5</td>\n",
       "      <td>69</td>\n",
       "      <td>F</td>\n",
       "      <td>PA</td>\n",
       "      <td>2048</td>\n",
       "      <td>2500</td>\n",
       "      <td>0.168</td>\n",
       "      <td>0.168</td>\n",
       "    </tr>\n",
       "  </tbody>\n",
       "</table>\n",
       "</div>"
      ],
      "text/plain": [
       "           img_index                  labels  follow_up  pa_id  pa_age  \\\n",
       "1   00000001_001.png  Cardiomegaly|Emphysema          1      1      58   \n",
       "2   00000001_002.png   Cardiomegaly|Effusion          2      1      58   \n",
       "3   00000002_000.png              No Finding          0      2      80   \n",
       "12  00000004_000.png             Mass|Nodule          0      4      82   \n",
       "13  00000005_000.png              No Finding          0      5      69   \n",
       "\n",
       "   pa_gender view_position  OriginalImage[Width  Height]  \\\n",
       "1          M            PA                 2894     2729   \n",
       "2          M            PA                 2500     2048   \n",
       "3          M            PA                 2500     2048   \n",
       "12         M            AP                 2500     2048   \n",
       "13         F            PA                 2048     2500   \n",
       "\n",
       "    OriginalImagePixelSpacing[x     y]  \n",
       "1                         0.143  0.143  \n",
       "2                         0.168  0.168  \n",
       "3                         0.171  0.171  \n",
       "12                        0.168  0.168  \n",
       "13                        0.168  0.168  "
      ]
     },
     "execution_count": 128,
     "metadata": {},
     "output_type": "execute_result"
    }
   ],
   "source": [
    "df_train_img.head()\n",
    "#following are the images to be trained"
   ]
  },
  {
   "cell_type": "code",
   "execution_count": 129,
   "metadata": {},
   "outputs": [
    {
     "data": {
      "text/plain": [
       "60566"
      ]
     },
     "execution_count": 129,
     "metadata": {},
     "output_type": "execute_result"
    }
   ],
   "source": [
    "len(df_train_img)"
   ]
  },
  {
   "cell_type": "code",
   "execution_count": 130,
   "metadata": {
    "scrolled": true
   },
   "outputs": [
    {
     "name": "stdout",
     "output_type": "stream",
     "text": [
      "['Cardiomegaly|Emphysema' 'Cardiomegaly|Effusion' 'No Finding'\n",
      " 'Mass|Nodule' 'Infiltration']\n"
     ]
    }
   ],
   "source": [
    "#checking images with various labels\n",
    "print(df_train_img['labels'].unique()[0:5])"
   ]
  },
  {
   "cell_type": "markdown",
   "metadata": {},
   "source": [
    "Here we consider the label \"No Finding\" as normal. Although in the the documentation it has been identified specifically that the terms like ‘It is hard to exclude ...’ is treated as uncertainty cases and then the image is labeled as ‘No finding’. We have considerd that as \"no cardiomegaly\" or \"Normal\". "
   ]
  },
  {
   "cell_type": "code",
   "execution_count": 131,
   "metadata": {
    "scrolled": false
   },
   "outputs": [
    {
     "name": "stderr",
     "output_type": "stream",
     "text": [
      "/Users/neeharikasinha/opt/anaconda3/lib/python3.7/site-packages/pandas/core/indexing.py:844: SettingWithCopyWarning: \n",
      "A value is trying to be set on a copy of a slice from a DataFrame.\n",
      "Try using .loc[row_indexer,col_indexer] = value instead\n",
      "\n",
      "See the caveats in the documentation: https://pandas.pydata.org/pandas-docs/stable/user_guide/indexing.html#returning-a-view-versus-a-copy\n",
      "  self.obj[key] = _infer_fill_value(value)\n",
      "/Users/neeharikasinha/opt/anaconda3/lib/python3.7/site-packages/pandas/core/indexing.py:965: SettingWithCopyWarning: \n",
      "A value is trying to be set on a copy of a slice from a DataFrame.\n",
      "Try using .loc[row_indexer,col_indexer] = value instead\n",
      "\n",
      "See the caveats in the documentation: https://pandas.pydata.org/pandas-docs/stable/user_guide/indexing.html#returning-a-view-versus-a-copy\n",
      "  self.obj[item] = s\n"
     ]
    }
   ],
   "source": [
    "#assign 1 for 'No Finding' and 2 for 'Cardiomegaly'\n",
    "df_train_img.loc[df_train_img.labels.str.contains('No Finding'), 'marker'] = '1'\n",
    "\n",
    "df_train_img.loc[df_train_img.labels.str.contains('Cardiomegaly'), 'marker'] = '2'\n",
    "\n"
   ]
  },
  {
   "cell_type": "code",
   "execution_count": 132,
   "metadata": {
    "scrolled": false
   },
   "outputs": [
    {
     "data": {
      "text/html": [
       "<div>\n",
       "<style scoped>\n",
       "    .dataframe tbody tr th:only-of-type {\n",
       "        vertical-align: middle;\n",
       "    }\n",
       "\n",
       "    .dataframe tbody tr th {\n",
       "        vertical-align: top;\n",
       "    }\n",
       "\n",
       "    .dataframe thead th {\n",
       "        text-align: right;\n",
       "    }\n",
       "</style>\n",
       "<table border=\"1\" class=\"dataframe\">\n",
       "  <thead>\n",
       "    <tr style=\"text-align: right;\">\n",
       "      <th></th>\n",
       "      <th>img_index</th>\n",
       "      <th>labels</th>\n",
       "      <th>follow_up</th>\n",
       "      <th>pa_id</th>\n",
       "      <th>pa_age</th>\n",
       "      <th>pa_gender</th>\n",
       "      <th>view_position</th>\n",
       "      <th>OriginalImage[Width</th>\n",
       "      <th>Height]</th>\n",
       "      <th>OriginalImagePixelSpacing[x</th>\n",
       "      <th>y]</th>\n",
       "      <th>marker</th>\n",
       "    </tr>\n",
       "  </thead>\n",
       "  <tbody>\n",
       "    <tr>\n",
       "      <th>1</th>\n",
       "      <td>00000001_001.png</td>\n",
       "      <td>Cardiomegaly|Emphysema</td>\n",
       "      <td>1</td>\n",
       "      <td>1</td>\n",
       "      <td>58</td>\n",
       "      <td>M</td>\n",
       "      <td>PA</td>\n",
       "      <td>2894</td>\n",
       "      <td>2729</td>\n",
       "      <td>0.143</td>\n",
       "      <td>0.143</td>\n",
       "      <td>2</td>\n",
       "    </tr>\n",
       "    <tr>\n",
       "      <th>2</th>\n",
       "      <td>00000001_002.png</td>\n",
       "      <td>Cardiomegaly|Effusion</td>\n",
       "      <td>2</td>\n",
       "      <td>1</td>\n",
       "      <td>58</td>\n",
       "      <td>M</td>\n",
       "      <td>PA</td>\n",
       "      <td>2500</td>\n",
       "      <td>2048</td>\n",
       "      <td>0.168</td>\n",
       "      <td>0.168</td>\n",
       "      <td>2</td>\n",
       "    </tr>\n",
       "    <tr>\n",
       "      <th>3</th>\n",
       "      <td>00000002_000.png</td>\n",
       "      <td>No Finding</td>\n",
       "      <td>0</td>\n",
       "      <td>2</td>\n",
       "      <td>80</td>\n",
       "      <td>M</td>\n",
       "      <td>PA</td>\n",
       "      <td>2500</td>\n",
       "      <td>2048</td>\n",
       "      <td>0.171</td>\n",
       "      <td>0.171</td>\n",
       "      <td>1</td>\n",
       "    </tr>\n",
       "    <tr>\n",
       "      <th>12</th>\n",
       "      <td>00000004_000.png</td>\n",
       "      <td>Mass|Nodule</td>\n",
       "      <td>0</td>\n",
       "      <td>4</td>\n",
       "      <td>82</td>\n",
       "      <td>M</td>\n",
       "      <td>AP</td>\n",
       "      <td>2500</td>\n",
       "      <td>2048</td>\n",
       "      <td>0.168</td>\n",
       "      <td>0.168</td>\n",
       "      <td>NaN</td>\n",
       "    </tr>\n",
       "    <tr>\n",
       "      <th>13</th>\n",
       "      <td>00000005_000.png</td>\n",
       "      <td>No Finding</td>\n",
       "      <td>0</td>\n",
       "      <td>5</td>\n",
       "      <td>69</td>\n",
       "      <td>F</td>\n",
       "      <td>PA</td>\n",
       "      <td>2048</td>\n",
       "      <td>2500</td>\n",
       "      <td>0.168</td>\n",
       "      <td>0.168</td>\n",
       "      <td>1</td>\n",
       "    </tr>\n",
       "  </tbody>\n",
       "</table>\n",
       "</div>"
      ],
      "text/plain": [
       "           img_index                  labels  follow_up  pa_id  pa_age  \\\n",
       "1   00000001_001.png  Cardiomegaly|Emphysema          1      1      58   \n",
       "2   00000001_002.png   Cardiomegaly|Effusion          2      1      58   \n",
       "3   00000002_000.png              No Finding          0      2      80   \n",
       "12  00000004_000.png             Mass|Nodule          0      4      82   \n",
       "13  00000005_000.png              No Finding          0      5      69   \n",
       "\n",
       "   pa_gender view_position  OriginalImage[Width  Height]  \\\n",
       "1          M            PA                 2894     2729   \n",
       "2          M            PA                 2500     2048   \n",
       "3          M            PA                 2500     2048   \n",
       "12         M            AP                 2500     2048   \n",
       "13         F            PA                 2048     2500   \n",
       "\n",
       "    OriginalImagePixelSpacing[x     y] marker  \n",
       "1                         0.143  0.143      2  \n",
       "2                         0.168  0.168      2  \n",
       "3                         0.171  0.171      1  \n",
       "12                        0.168  0.168    NaN  \n",
       "13                        0.168  0.168      1  "
      ]
     },
     "execution_count": 132,
     "metadata": {},
     "output_type": "execute_result"
    }
   ],
   "source": [
    "df_train_img.head()"
   ]
  },
  {
   "cell_type": "code",
   "execution_count": 133,
   "metadata": {},
   "outputs": [
    {
     "data": {
      "text/html": [
       "<div>\n",
       "<style scoped>\n",
       "    .dataframe tbody tr th:only-of-type {\n",
       "        vertical-align: middle;\n",
       "    }\n",
       "\n",
       "    .dataframe tbody tr th {\n",
       "        vertical-align: top;\n",
       "    }\n",
       "\n",
       "    .dataframe thead th {\n",
       "        text-align: right;\n",
       "    }\n",
       "</style>\n",
       "<table border=\"1\" class=\"dataframe\">\n",
       "  <thead>\n",
       "    <tr style=\"text-align: right;\">\n",
       "      <th></th>\n",
       "      <th>follow_up</th>\n",
       "      <th>pa_id</th>\n",
       "      <th>pa_age</th>\n",
       "      <th>OriginalImage[Width</th>\n",
       "      <th>Height]</th>\n",
       "      <th>OriginalImagePixelSpacing[x</th>\n",
       "      <th>y]</th>\n",
       "    </tr>\n",
       "  </thead>\n",
       "  <tbody>\n",
       "    <tr>\n",
       "      <th>count</th>\n",
       "      <td>60566.000000</td>\n",
       "      <td>60566.000000</td>\n",
       "      <td>60566.00000</td>\n",
       "      <td>60566.00000</td>\n",
       "      <td>60566.000000</td>\n",
       "      <td>60566.000000</td>\n",
       "      <td>60566.000000</td>\n",
       "    </tr>\n",
       "    <tr>\n",
       "      <th>mean</th>\n",
       "      <td>5.127448</td>\n",
       "      <td>13785.226612</td>\n",
       "      <td>46.59687</td>\n",
       "      <td>2640.63075</td>\n",
       "      <td>2503.839563</td>\n",
       "      <td>0.155418</td>\n",
       "      <td>0.155418</td>\n",
       "    </tr>\n",
       "    <tr>\n",
       "      <th>std</th>\n",
       "      <td>8.692182</td>\n",
       "      <td>8277.874008</td>\n",
       "      <td>16.66908</td>\n",
       "      <td>337.36858</td>\n",
       "      <td>403.249851</td>\n",
       "      <td>0.015624</td>\n",
       "      <td>0.015624</td>\n",
       "    </tr>\n",
       "    <tr>\n",
       "      <th>min</th>\n",
       "      <td>0.000000</td>\n",
       "      <td>1.000000</td>\n",
       "      <td>0.00000</td>\n",
       "      <td>1301.00000</td>\n",
       "      <td>966.000000</td>\n",
       "      <td>0.115000</td>\n",
       "      <td>0.115000</td>\n",
       "    </tr>\n",
       "    <tr>\n",
       "      <th>25%</th>\n",
       "      <td>0.000000</td>\n",
       "      <td>6738.000000</td>\n",
       "      <td>34.00000</td>\n",
       "      <td>2500.00000</td>\n",
       "      <td>2048.000000</td>\n",
       "      <td>0.143000</td>\n",
       "      <td>0.143000</td>\n",
       "    </tr>\n",
       "    <tr>\n",
       "      <th>50%</th>\n",
       "      <td>2.000000</td>\n",
       "      <td>13298.000000</td>\n",
       "      <td>48.00000</td>\n",
       "      <td>2514.00000</td>\n",
       "      <td>2544.000000</td>\n",
       "      <td>0.143000</td>\n",
       "      <td>0.143000</td>\n",
       "    </tr>\n",
       "    <tr>\n",
       "      <th>75%</th>\n",
       "      <td>6.000000</td>\n",
       "      <td>20202.000000</td>\n",
       "      <td>59.00000</td>\n",
       "      <td>2992.00000</td>\n",
       "      <td>2991.000000</td>\n",
       "      <td>0.168000</td>\n",
       "      <td>0.168000</td>\n",
       "    </tr>\n",
       "    <tr>\n",
       "      <th>max</th>\n",
       "      <td>108.000000</td>\n",
       "      <td>30801.000000</td>\n",
       "      <td>95.00000</td>\n",
       "      <td>3550.00000</td>\n",
       "      <td>3166.000000</td>\n",
       "      <td>0.198800</td>\n",
       "      <td>0.198800</td>\n",
       "    </tr>\n",
       "  </tbody>\n",
       "</table>\n",
       "</div>"
      ],
      "text/plain": [
       "          follow_up         pa_id       pa_age  OriginalImage[Width  \\\n",
       "count  60566.000000  60566.000000  60566.00000          60566.00000   \n",
       "mean       5.127448  13785.226612     46.59687           2640.63075   \n",
       "std        8.692182   8277.874008     16.66908            337.36858   \n",
       "min        0.000000      1.000000      0.00000           1301.00000   \n",
       "25%        0.000000   6738.000000     34.00000           2500.00000   \n",
       "50%        2.000000  13298.000000     48.00000           2514.00000   \n",
       "75%        6.000000  20202.000000     59.00000           2992.00000   \n",
       "max      108.000000  30801.000000     95.00000           3550.00000   \n",
       "\n",
       "            Height]  OriginalImagePixelSpacing[x            y]  \n",
       "count  60566.000000                 60566.000000  60566.000000  \n",
       "mean    2503.839563                     0.155418      0.155418  \n",
       "std      403.249851                     0.015624      0.015624  \n",
       "min      966.000000                     0.115000      0.115000  \n",
       "25%     2048.000000                     0.143000      0.143000  \n",
       "50%     2544.000000                     0.143000      0.143000  \n",
       "75%     2991.000000                     0.168000      0.168000  \n",
       "max     3166.000000                     0.198800      0.198800  "
      ]
     },
     "execution_count": 133,
     "metadata": {},
     "output_type": "execute_result"
    }
   ],
   "source": [
    "df_train_img.describe()"
   ]
  },
  {
   "cell_type": "code",
   "execution_count": 134,
   "metadata": {},
   "outputs": [],
   "source": [
    "df_train_normal=df_train_img[df_train_img['marker'] == '1']"
   ]
  },
  {
   "cell_type": "code",
   "execution_count": 135,
   "metadata": {},
   "outputs": [],
   "source": [
    "df_train_cardiomegaly=df_train_img[df_train_img['marker'] == '2']"
   ]
  },
  {
   "cell_type": "code",
   "execution_count": 136,
   "metadata": {
    "scrolled": false
   },
   "outputs": [
    {
     "data": {
      "text/html": [
       "<div>\n",
       "<style scoped>\n",
       "    .dataframe tbody tr th:only-of-type {\n",
       "        vertical-align: middle;\n",
       "    }\n",
       "\n",
       "    .dataframe tbody tr th {\n",
       "        vertical-align: top;\n",
       "    }\n",
       "\n",
       "    .dataframe thead th {\n",
       "        text-align: right;\n",
       "    }\n",
       "</style>\n",
       "<table border=\"1\" class=\"dataframe\">\n",
       "  <thead>\n",
       "    <tr style=\"text-align: right;\">\n",
       "      <th></th>\n",
       "      <th>img_index</th>\n",
       "      <th>labels</th>\n",
       "      <th>follow_up</th>\n",
       "      <th>pa_id</th>\n",
       "      <th>pa_age</th>\n",
       "      <th>pa_gender</th>\n",
       "      <th>view_position</th>\n",
       "      <th>OriginalImage[Width</th>\n",
       "      <th>Height]</th>\n",
       "      <th>OriginalImagePixelSpacing[x</th>\n",
       "      <th>y]</th>\n",
       "      <th>marker</th>\n",
       "    </tr>\n",
       "  </thead>\n",
       "  <tbody>\n",
       "    <tr>\n",
       "      <th>3</th>\n",
       "      <td>00000002_000.png</td>\n",
       "      <td>No Finding</td>\n",
       "      <td>0</td>\n",
       "      <td>2</td>\n",
       "      <td>80</td>\n",
       "      <td>M</td>\n",
       "      <td>PA</td>\n",
       "      <td>2500</td>\n",
       "      <td>2048</td>\n",
       "      <td>0.171</td>\n",
       "      <td>0.171</td>\n",
       "      <td>1</td>\n",
       "    </tr>\n",
       "    <tr>\n",
       "      <th>13</th>\n",
       "      <td>00000005_000.png</td>\n",
       "      <td>No Finding</td>\n",
       "      <td>0</td>\n",
       "      <td>5</td>\n",
       "      <td>69</td>\n",
       "      <td>F</td>\n",
       "      <td>PA</td>\n",
       "      <td>2048</td>\n",
       "      <td>2500</td>\n",
       "      <td>0.168</td>\n",
       "      <td>0.168</td>\n",
       "      <td>1</td>\n",
       "    </tr>\n",
       "    <tr>\n",
       "      <th>14</th>\n",
       "      <td>00000005_001.png</td>\n",
       "      <td>No Finding</td>\n",
       "      <td>1</td>\n",
       "      <td>5</td>\n",
       "      <td>69</td>\n",
       "      <td>F</td>\n",
       "      <td>AP</td>\n",
       "      <td>2500</td>\n",
       "      <td>2048</td>\n",
       "      <td>0.168</td>\n",
       "      <td>0.168</td>\n",
       "      <td>1</td>\n",
       "    </tr>\n",
       "    <tr>\n",
       "      <th>15</th>\n",
       "      <td>00000005_002.png</td>\n",
       "      <td>No Finding</td>\n",
       "      <td>2</td>\n",
       "      <td>5</td>\n",
       "      <td>69</td>\n",
       "      <td>F</td>\n",
       "      <td>AP</td>\n",
       "      <td>2500</td>\n",
       "      <td>2048</td>\n",
       "      <td>0.168</td>\n",
       "      <td>0.168</td>\n",
       "      <td>1</td>\n",
       "    </tr>\n",
       "    <tr>\n",
       "      <th>16</th>\n",
       "      <td>00000005_003.png</td>\n",
       "      <td>No Finding</td>\n",
       "      <td>3</td>\n",
       "      <td>5</td>\n",
       "      <td>69</td>\n",
       "      <td>F</td>\n",
       "      <td>PA</td>\n",
       "      <td>2992</td>\n",
       "      <td>2991</td>\n",
       "      <td>0.143</td>\n",
       "      <td>0.143</td>\n",
       "      <td>1</td>\n",
       "    </tr>\n",
       "  </tbody>\n",
       "</table>\n",
       "</div>"
      ],
      "text/plain": [
       "           img_index      labels  follow_up  pa_id  pa_age pa_gender  \\\n",
       "3   00000002_000.png  No Finding          0      2      80         M   \n",
       "13  00000005_000.png  No Finding          0      5      69         F   \n",
       "14  00000005_001.png  No Finding          1      5      69         F   \n",
       "15  00000005_002.png  No Finding          2      5      69         F   \n",
       "16  00000005_003.png  No Finding          3      5      69         F   \n",
       "\n",
       "   view_position  OriginalImage[Width  Height]  OriginalImagePixelSpacing[x  \\\n",
       "3             PA                 2500     2048                        0.171   \n",
       "13            PA                 2048     2500                        0.168   \n",
       "14            AP                 2500     2048                        0.168   \n",
       "15            AP                 2500     2048                        0.168   \n",
       "16            PA                 2992     2991                        0.143   \n",
       "\n",
       "       y] marker  \n",
       "3   0.171      1  \n",
       "13  0.168      1  \n",
       "14  0.168      1  \n",
       "15  0.168      1  \n",
       "16  0.143      1  "
      ]
     },
     "execution_count": 136,
     "metadata": {},
     "output_type": "execute_result"
    }
   ],
   "source": [
    "df_train_normal.head()"
   ]
  },
  {
   "cell_type": "code",
   "execution_count": 137,
   "metadata": {
    "scrolled": false
   },
   "outputs": [
    {
     "data": {
      "text/html": [
       "<div>\n",
       "<style scoped>\n",
       "    .dataframe tbody tr th:only-of-type {\n",
       "        vertical-align: middle;\n",
       "    }\n",
       "\n",
       "    .dataframe tbody tr th {\n",
       "        vertical-align: top;\n",
       "    }\n",
       "\n",
       "    .dataframe thead th {\n",
       "        text-align: right;\n",
       "    }\n",
       "</style>\n",
       "<table border=\"1\" class=\"dataframe\">\n",
       "  <thead>\n",
       "    <tr style=\"text-align: right;\">\n",
       "      <th></th>\n",
       "      <th>img_index</th>\n",
       "      <th>labels</th>\n",
       "      <th>follow_up</th>\n",
       "      <th>pa_id</th>\n",
       "      <th>pa_age</th>\n",
       "      <th>pa_gender</th>\n",
       "      <th>view_position</th>\n",
       "      <th>OriginalImage[Width</th>\n",
       "      <th>Height]</th>\n",
       "      <th>OriginalImagePixelSpacing[x</th>\n",
       "      <th>y]</th>\n",
       "      <th>marker</th>\n",
       "    </tr>\n",
       "  </thead>\n",
       "  <tbody>\n",
       "    <tr>\n",
       "      <th>1</th>\n",
       "      <td>00000001_001.png</td>\n",
       "      <td>Cardiomegaly|Emphysema</td>\n",
       "      <td>1</td>\n",
       "      <td>1</td>\n",
       "      <td>58</td>\n",
       "      <td>M</td>\n",
       "      <td>PA</td>\n",
       "      <td>2894</td>\n",
       "      <td>2729</td>\n",
       "      <td>0.143</td>\n",
       "      <td>0.143</td>\n",
       "      <td>2</td>\n",
       "    </tr>\n",
       "    <tr>\n",
       "      <th>2</th>\n",
       "      <td>00000001_002.png</td>\n",
       "      <td>Cardiomegaly|Effusion</td>\n",
       "      <td>2</td>\n",
       "      <td>1</td>\n",
       "      <td>58</td>\n",
       "      <td>M</td>\n",
       "      <td>PA</td>\n",
       "      <td>2500</td>\n",
       "      <td>2048</td>\n",
       "      <td>0.168</td>\n",
       "      <td>0.168</td>\n",
       "      <td>2</td>\n",
       "    </tr>\n",
       "    <tr>\n",
       "      <th>23</th>\n",
       "      <td>00000008_000.png</td>\n",
       "      <td>Cardiomegaly</td>\n",
       "      <td>0</td>\n",
       "      <td>8</td>\n",
       "      <td>68</td>\n",
       "      <td>F</td>\n",
       "      <td>PA</td>\n",
       "      <td>2048</td>\n",
       "      <td>2500</td>\n",
       "      <td>0.171</td>\n",
       "      <td>0.171</td>\n",
       "      <td>2</td>\n",
       "    </tr>\n",
       "    <tr>\n",
       "      <th>175</th>\n",
       "      <td>00000033_000.png</td>\n",
       "      <td>Atelectasis|Cardiomegaly|Fibrosis</td>\n",
       "      <td>0</td>\n",
       "      <td>33</td>\n",
       "      <td>72</td>\n",
       "      <td>F</td>\n",
       "      <td>PA</td>\n",
       "      <td>2992</td>\n",
       "      <td>2745</td>\n",
       "      <td>0.143</td>\n",
       "      <td>0.143</td>\n",
       "      <td>2</td>\n",
       "    </tr>\n",
       "    <tr>\n",
       "      <th>185</th>\n",
       "      <td>00000038_003.png</td>\n",
       "      <td>Cardiomegaly</td>\n",
       "      <td>3</td>\n",
       "      <td>38</td>\n",
       "      <td>76</td>\n",
       "      <td>M</td>\n",
       "      <td>AP</td>\n",
       "      <td>3056</td>\n",
       "      <td>2544</td>\n",
       "      <td>0.139</td>\n",
       "      <td>0.139</td>\n",
       "      <td>2</td>\n",
       "    </tr>\n",
       "  </tbody>\n",
       "</table>\n",
       "</div>"
      ],
      "text/plain": [
       "            img_index                             labels  follow_up  pa_id  \\\n",
       "1    00000001_001.png             Cardiomegaly|Emphysema          1      1   \n",
       "2    00000001_002.png              Cardiomegaly|Effusion          2      1   \n",
       "23   00000008_000.png                       Cardiomegaly          0      8   \n",
       "175  00000033_000.png  Atelectasis|Cardiomegaly|Fibrosis          0     33   \n",
       "185  00000038_003.png                       Cardiomegaly          3     38   \n",
       "\n",
       "     pa_age pa_gender view_position  OriginalImage[Width  Height]  \\\n",
       "1        58         M            PA                 2894     2729   \n",
       "2        58         M            PA                 2500     2048   \n",
       "23       68         F            PA                 2048     2500   \n",
       "175      72         F            PA                 2992     2745   \n",
       "185      76         M            AP                 3056     2544   \n",
       "\n",
       "     OriginalImagePixelSpacing[x     y] marker  \n",
       "1                          0.143  0.143      2  \n",
       "2                          0.168  0.168      2  \n",
       "23                         0.171  0.171      2  \n",
       "175                        0.143  0.143      2  \n",
       "185                        0.139  0.139      2  "
      ]
     },
     "execution_count": 137,
     "metadata": {},
     "output_type": "execute_result"
    }
   ],
   "source": [
    "df_train_cardiomegaly.head()"
   ]
  },
  {
   "cell_type": "code",
   "execution_count": 138,
   "metadata": {
    "scrolled": true
   },
   "outputs": [
    {
     "name": "stdout",
     "output_type": "stream",
     "text": [
      "Number of images which do not come under normal or cardiomegaly: 24021\n"
     ]
    }
   ],
   "source": [
    "#number of images which do not come under normal or cardiomegaly\n",
    "print('Number of images which do not come under normal or cardiomegaly:',len(df_train_img)-(len(df_train_normal)+len(df_train_cardiomegaly)))"
   ]
  },
  {
   "cell_type": "code",
   "execution_count": 139,
   "metadata": {},
   "outputs": [
    {
     "name": "stdout",
     "output_type": "stream",
     "text": [
      "Number of raw images being analysed: 36545\n"
     ]
    }
   ],
   "source": [
    "#number of raw images being analysed\n",
    "print('Number of raw images being analysed:',len(df_train_normal)+len(df_train_cardiomegaly))\n"
   ]
  },
  {
   "cell_type": "code",
   "execution_count": 140,
   "metadata": {},
   "outputs": [
    {
     "data": {
      "text/plain": [
       "['00000005_000.png', '00000005_001.png']"
      ]
     },
     "execution_count": 140,
     "metadata": {},
     "output_type": "execute_result"
    }
   ],
   "source": [
    "#making list of images under normal\n",
    "train_normal_img_list = df_train_normal.img_index.tolist()\n",
    "train_normal_img_list[1:3]"
   ]
  },
  {
   "cell_type": "code",
   "execution_count": 141,
   "metadata": {},
   "outputs": [
    {
     "data": {
      "text/plain": [
       "['00000001_002.png', '00000008_000.png']"
      ]
     },
     "execution_count": 141,
     "metadata": {},
     "output_type": "execute_result"
    }
   ],
   "source": [
    "#making list of images under cardiomegaly\n",
    "train_cardiomegaly_img_list = df_train_cardiomegaly.img_index.tolist()\n",
    "train_cardiomegaly_img_list[1:3]"
   ]
  },
  {
   "cell_type": "code",
   "execution_count": 142,
   "metadata": {
    "scrolled": true
   },
   "outputs": [],
   "source": [
    "#create a folder train_img to collect all the images belonging to train_img.txt\n",
    "create_directory('/Users/neeharikasinha/Documents/datascience-course/Capstones/Chestxray-cardiomegaly3/train_img/')"
   ]
  },
  {
   "cell_type": "code",
   "execution_count": 143,
   "metadata": {},
   "outputs": [],
   "source": [
    "#move the images in train_img\n",
    "move_listfiles('/Users/neeharikasinha/Documents/datascience-course/Capstones/Chestxray-cardiomegaly3/img_all/','/Users/neeharikasinha/Documents/datascience-course/Capstones/Chestxray-cardiomegaly3/train_img/',train_img)"
   ]
  },
  {
   "cell_type": "code",
   "execution_count": 144,
   "metadata": {},
   "outputs": [],
   "source": [
    "#create folder train_normal_img\n",
    "create_directory('/Users/neeharikasinha/Documents/datascience-course/Capstones/Chestxray-cardiomegaly3/train_normal_img/')"
   ]
  },
  {
   "cell_type": "code",
   "execution_count": 145,
   "metadata": {},
   "outputs": [],
   "source": [
    "#moving images marked as normal from train_img to train_normal_img\n",
    "\n",
    "move_listfiles('/Users/neeharikasinha/Documents/datascience-course/Capstones/Chestxray-cardiomegaly3/train_img/','/Users/neeharikasinha/Documents/datascience-course/Capstones/Chestxray-cardiomegaly3/train_normal_img/',train_normal_img_list)"
   ]
  },
  {
   "cell_type": "code",
   "execution_count": 146,
   "metadata": {},
   "outputs": [],
   "source": [
    "#create folder train_cardiomegaly_img\n",
    "create_directory('/Users/neeharikasinha/Documents/datascience-course/Capstones/Chestxray-cardiomegaly3/train_cardiomegaly_img/')"
   ]
  },
  {
   "cell_type": "code",
   "execution_count": 147,
   "metadata": {
    "scrolled": true
   },
   "outputs": [],
   "source": [
    "#moving images marked as cardiomegaly from train_img to train_cardiomegaly_img\n",
    "\n",
    "move_listfiles('/Users/neeharikasinha/Documents/datascience-course/Capstones/Chestxray-cardiomegaly3/train_img/','/Users/neeharikasinha/Documents/datascience-course/Capstones/Chestxray-cardiomegaly3/train_cardiomegaly_img/',train_cardiomegaly_img_list)"
   ]
  },
  {
   "cell_type": "code",
   "execution_count": 148,
   "metadata": {},
   "outputs": [],
   "source": [
    "#create a folder test_img to collect all the images belonging to test_list.txt\n",
    "create_directory('/Users/neeharikasinha/Documents/datascience-course/Capstones/Chestxray-cardiomegaly3/test_img/')\n"
   ]
  },
  {
   "cell_type": "code",
   "execution_count": 149,
   "metadata": {},
   "outputs": [
    {
     "data": {
      "text/plain": [
       "['00000003_001.png', '00000003_002.png']"
      ]
     },
     "execution_count": 149,
     "metadata": {},
     "output_type": "execute_result"
    }
   ],
   "source": [
    "#convert the files in test_list.txt to a python list \n",
    "\n",
    "test_list= open('/Users/neeharikasinha/Documents/datascience-course/Capstones/Chestxray-cardiomegaly3/test_list.txt').read().split()\n",
    "test_list[1:3]"
   ]
  },
  {
   "cell_type": "code",
   "execution_count": 150,
   "metadata": {},
   "outputs": [
    {
     "data": {
      "text/plain": [
       "25596"
      ]
     },
     "execution_count": 150,
     "metadata": {},
     "output_type": "execute_result"
    }
   ],
   "source": [
    "len(test_list)"
   ]
  },
  {
   "cell_type": "code",
   "execution_count": 151,
   "metadata": {},
   "outputs": [],
   "source": [
    "#Selecting the images under test_list from Data_Entry_2017_v2020.csv file\n",
    "\n",
    "df_test_img = df[df.img_index.isin(test_list)]"
   ]
  },
  {
   "cell_type": "code",
   "execution_count": 152,
   "metadata": {},
   "outputs": [
    {
     "data": {
      "text/plain": [
       "25596"
      ]
     },
     "execution_count": 152,
     "metadata": {},
     "output_type": "execute_result"
    }
   ],
   "source": [
    "len(df_test_img)"
   ]
  },
  {
   "cell_type": "code",
   "execution_count": 153,
   "metadata": {
    "scrolled": false
   },
   "outputs": [
    {
     "data": {
      "text/html": [
       "<div>\n",
       "<style scoped>\n",
       "    .dataframe tbody tr th:only-of-type {\n",
       "        vertical-align: middle;\n",
       "    }\n",
       "\n",
       "    .dataframe tbody tr th {\n",
       "        vertical-align: top;\n",
       "    }\n",
       "\n",
       "    .dataframe thead th {\n",
       "        text-align: right;\n",
       "    }\n",
       "</style>\n",
       "<table border=\"1\" class=\"dataframe\">\n",
       "  <thead>\n",
       "    <tr style=\"text-align: right;\">\n",
       "      <th></th>\n",
       "      <th>img_index</th>\n",
       "      <th>labels</th>\n",
       "      <th>follow_up</th>\n",
       "      <th>pa_id</th>\n",
       "      <th>pa_age</th>\n",
       "      <th>pa_gender</th>\n",
       "      <th>view_position</th>\n",
       "      <th>OriginalImage[Width</th>\n",
       "      <th>Height]</th>\n",
       "      <th>OriginalImagePixelSpacing[x</th>\n",
       "      <th>y]</th>\n",
       "    </tr>\n",
       "  </thead>\n",
       "  <tbody>\n",
       "    <tr>\n",
       "      <th>4</th>\n",
       "      <td>00000003_001.png</td>\n",
       "      <td>Hernia</td>\n",
       "      <td>0</td>\n",
       "      <td>3</td>\n",
       "      <td>74</td>\n",
       "      <td>F</td>\n",
       "      <td>PA</td>\n",
       "      <td>2500</td>\n",
       "      <td>2048</td>\n",
       "      <td>0.168</td>\n",
       "      <td>0.168</td>\n",
       "    </tr>\n",
       "    <tr>\n",
       "      <th>5</th>\n",
       "      <td>00000003_002.png</td>\n",
       "      <td>Hernia</td>\n",
       "      <td>1</td>\n",
       "      <td>3</td>\n",
       "      <td>75</td>\n",
       "      <td>F</td>\n",
       "      <td>PA</td>\n",
       "      <td>2048</td>\n",
       "      <td>2500</td>\n",
       "      <td>0.168</td>\n",
       "      <td>0.168</td>\n",
       "    </tr>\n",
       "    <tr>\n",
       "      <th>6</th>\n",
       "      <td>00000003_003.png</td>\n",
       "      <td>Hernia|Infiltration</td>\n",
       "      <td>2</td>\n",
       "      <td>3</td>\n",
       "      <td>76</td>\n",
       "      <td>F</td>\n",
       "      <td>PA</td>\n",
       "      <td>2698</td>\n",
       "      <td>2991</td>\n",
       "      <td>0.143</td>\n",
       "      <td>0.143</td>\n",
       "    </tr>\n",
       "    <tr>\n",
       "      <th>7</th>\n",
       "      <td>00000003_004.png</td>\n",
       "      <td>Hernia</td>\n",
       "      <td>3</td>\n",
       "      <td>3</td>\n",
       "      <td>77</td>\n",
       "      <td>F</td>\n",
       "      <td>PA</td>\n",
       "      <td>2500</td>\n",
       "      <td>2048</td>\n",
       "      <td>0.168</td>\n",
       "      <td>0.168</td>\n",
       "    </tr>\n",
       "    <tr>\n",
       "      <th>8</th>\n",
       "      <td>00000003_005.png</td>\n",
       "      <td>Hernia</td>\n",
       "      <td>4</td>\n",
       "      <td>3</td>\n",
       "      <td>78</td>\n",
       "      <td>F</td>\n",
       "      <td>PA</td>\n",
       "      <td>2686</td>\n",
       "      <td>2991</td>\n",
       "      <td>0.143</td>\n",
       "      <td>0.143</td>\n",
       "    </tr>\n",
       "  </tbody>\n",
       "</table>\n",
       "</div>"
      ],
      "text/plain": [
       "          img_index               labels  follow_up  pa_id  pa_age pa_gender  \\\n",
       "4  00000003_001.png               Hernia          0      3      74         F   \n",
       "5  00000003_002.png               Hernia          1      3      75         F   \n",
       "6  00000003_003.png  Hernia|Infiltration          2      3      76         F   \n",
       "7  00000003_004.png               Hernia          3      3      77         F   \n",
       "8  00000003_005.png               Hernia          4      3      78         F   \n",
       "\n",
       "  view_position  OriginalImage[Width  Height]  OriginalImagePixelSpacing[x  \\\n",
       "4            PA                 2500     2048                        0.168   \n",
       "5            PA                 2048     2500                        0.168   \n",
       "6            PA                 2698     2991                        0.143   \n",
       "7            PA                 2500     2048                        0.168   \n",
       "8            PA                 2686     2991                        0.143   \n",
       "\n",
       "      y]  \n",
       "4  0.168  \n",
       "5  0.168  \n",
       "6  0.143  \n",
       "7  0.168  \n",
       "8  0.143  "
      ]
     },
     "execution_count": 153,
     "metadata": {},
     "output_type": "execute_result"
    }
   ],
   "source": [
    "df_test_img.head()"
   ]
  },
  {
   "cell_type": "code",
   "execution_count": 154,
   "metadata": {
    "scrolled": true
   },
   "outputs": [
    {
     "name": "stderr",
     "output_type": "stream",
     "text": [
      "/Users/neeharikasinha/opt/anaconda3/lib/python3.7/site-packages/pandas/core/indexing.py:844: SettingWithCopyWarning: \n",
      "A value is trying to be set on a copy of a slice from a DataFrame.\n",
      "Try using .loc[row_indexer,col_indexer] = value instead\n",
      "\n",
      "See the caveats in the documentation: https://pandas.pydata.org/pandas-docs/stable/user_guide/indexing.html#returning-a-view-versus-a-copy\n",
      "  self.obj[key] = _infer_fill_value(value)\n",
      "/Users/neeharikasinha/opt/anaconda3/lib/python3.7/site-packages/pandas/core/indexing.py:965: SettingWithCopyWarning: \n",
      "A value is trying to be set on a copy of a slice from a DataFrame.\n",
      "Try using .loc[row_indexer,col_indexer] = value instead\n",
      "\n",
      "See the caveats in the documentation: https://pandas.pydata.org/pandas-docs/stable/user_guide/indexing.html#returning-a-view-versus-a-copy\n",
      "  self.obj[item] = s\n"
     ]
    }
   ],
   "source": [
    "#assign 1 for 'No Finding' and 2 for 'Cardiomegaly'\n",
    "df_test_img.loc[df_test_img.labels.str.contains('No Finding'), 'marker'] = '1'\n",
    "\n",
    "df_test_img.loc[df_test_img.labels.str.contains('Cardiomegaly'), 'marker'] = '2'"
   ]
  },
  {
   "cell_type": "code",
   "execution_count": 155,
   "metadata": {},
   "outputs": [],
   "source": [
    "df_test_normal=df_test_img[df_test_img['marker'] == '1']"
   ]
  },
  {
   "cell_type": "code",
   "execution_count": 156,
   "metadata": {},
   "outputs": [],
   "source": [
    "df_test_cardiomegaly=df_test_img[df_test_img['marker'] == '2']"
   ]
  },
  {
   "cell_type": "code",
   "execution_count": 157,
   "metadata": {},
   "outputs": [
    {
     "name": "stdout",
     "output_type": "stream",
     "text": [
      "Number of raw images being tested: 10930\n"
     ]
    }
   ],
   "source": [
    "#number of raw images being tested\n",
    "print('Number of raw images being tested:',len(df_test_normal)+len(df_test_cardiomegaly))\n"
   ]
  },
  {
   "cell_type": "code",
   "execution_count": 158,
   "metadata": {},
   "outputs": [
    {
     "data": {
      "text/plain": [
       "['00000013_000.png', '00000013_008.png']"
      ]
     },
     "execution_count": 158,
     "metadata": {},
     "output_type": "execute_result"
    }
   ],
   "source": [
    "#making list of images under normal\n",
    "test_normal_img_list = df_test_normal.img_index.tolist()\n",
    "test_normal_img_list[1:3]"
   ]
  },
  {
   "cell_type": "code",
   "execution_count": 159,
   "metadata": {
    "scrolled": true
   },
   "outputs": [
    {
     "data": {
      "text/plain": [
       "['00000013_026.png', '00000013_027.png']"
      ]
     },
     "execution_count": 159,
     "metadata": {},
     "output_type": "execute_result"
    }
   ],
   "source": [
    "#making list of images under cardiomegaly\n",
    "test_cardiomegaly_img_list = df_test_cardiomegaly.img_index.tolist()\n",
    "test_cardiomegaly_img_list[1:3]"
   ]
  },
  {
   "cell_type": "code",
   "execution_count": 160,
   "metadata": {},
   "outputs": [],
   "source": [
    "#create a folder test_img to collect all the images belonging to test_list.txt\n",
    "create_directory('/Users/neeharikasinha/Documents/datascience-course/Capstones/Chestxray-cardiomegaly3/test_img/')"
   ]
  },
  {
   "cell_type": "code",
   "execution_count": 161,
   "metadata": {},
   "outputs": [],
   "source": [
    "#move the images in test_img\n",
    "move_listfiles('/Users/neeharikasinha/Documents/datascience-course/Capstones/Chestxray-cardiomegaly3/img_all/','/Users/neeharikasinha/Documents/datascience-course/Capstones/Chestxray-cardiomegaly3/test_img/',test_list)\n"
   ]
  },
  {
   "cell_type": "code",
   "execution_count": 162,
   "metadata": {},
   "outputs": [],
   "source": [
    "#create folder test_normal_img\n",
    "create_directory('/Users/neeharikasinha/Documents/datascience-course/Capstones/Chestxray-cardiomegaly3/test_normal_img/')"
   ]
  },
  {
   "cell_type": "code",
   "execution_count": 163,
   "metadata": {},
   "outputs": [],
   "source": [
    "#moving images marked as normal from test_img to test_normal_img\n",
    "\n",
    "move_listfiles('/Users/neeharikasinha/Documents/datascience-course/Capstones/Chestxray-cardiomegaly3/test_img/','/Users/neeharikasinha/Documents/datascience-course/Capstones/Chestxray-cardiomegaly3/test_normal_img/',test_normal_img_list)"
   ]
  },
  {
   "cell_type": "code",
   "execution_count": 164,
   "metadata": {},
   "outputs": [],
   "source": [
    "#create folder test_cardiomegaly_img\n",
    "create_directory('/Users/neeharikasinha/Documents/datascience-course/Capstones/Chestxray-cardiomegaly3/test_cardiomegaly_img/')"
   ]
  },
  {
   "cell_type": "code",
   "execution_count": 165,
   "metadata": {
    "scrolled": true
   },
   "outputs": [],
   "source": [
    "#moving images marked as cardiomegaly from test_img to test_cardiomegaly_img\n",
    "\n",
    "move_listfiles('/Users/neeharikasinha/Documents/datascience-course/Capstones/Chestxray-cardiomegaly3/test_img/','/Users/neeharikasinha/Documents/datascience-course/Capstones/Chestxray-cardiomegaly3/test_cardiomegaly_img/',test_cardiomegaly_img_list)"
   ]
  },
  {
   "cell_type": "markdown",
   "metadata": {},
   "source": [
    "Creating and moving images marked valid"
   ]
  },
  {
   "cell_type": "code",
   "execution_count": 211,
   "metadata": {},
   "outputs": [],
   "source": [
    "#create a folder val_img to collect all the images belonging to valid_list.txt\n",
    "create_directory('/Users/neeharikasinha/Documents/datascience-course/Capstones/Chestxray-cardiomegaly3/val_img/')"
   ]
  },
  {
   "cell_type": "code",
   "execution_count": 212,
   "metadata": {},
   "outputs": [],
   "source": [
    "#create folder val_normal_img\n",
    "create_directory('/Users/neeharikasinha/Documents/datascience-course/Capstones/Chestxray-cardiomegaly3/val_normal_img/')"
   ]
  },
  {
   "cell_type": "code",
   "execution_count": 213,
   "metadata": {},
   "outputs": [],
   "source": [
    "#create folder val_cardiomegaly_img\n",
    "create_directory('/Users/neeharikasinha/Documents/datascience-course/Capstones/Chestxray-cardiomegaly3/val_cardiomegaly_img/')"
   ]
  },
  {
   "cell_type": "code",
   "execution_count": 214,
   "metadata": {},
   "outputs": [],
   "source": [
    "#move the images in valid_img\n",
    "move_listfiles('/Users/neeharikasinha/Documents/datascience-course/Capstones/Chestxray-cardiomegaly3/img_all/','/Users/neeharikasinha/Documents/datascience-course/Capstones/Chestxray-cardiomegaly3/val_img/',valid_img)\n"
   ]
  },
  {
   "cell_type": "code",
   "execution_count": 215,
   "metadata": {},
   "outputs": [],
   "source": [
    "#Selecting the images under val_img from Data_Entry_2017_v2020.csv file\n",
    "\n",
    "df_val_img = df[df.img_index.isin(valid_img)]"
   ]
  },
  {
   "cell_type": "code",
   "execution_count": 216,
   "metadata": {},
   "outputs": [
    {
     "data": {
      "text/plain": [
       "25958"
      ]
     },
     "execution_count": 216,
     "metadata": {},
     "output_type": "execute_result"
    }
   ],
   "source": [
    "len(df_val_img)"
   ]
  },
  {
   "cell_type": "code",
   "execution_count": 217,
   "metadata": {
    "scrolled": false
   },
   "outputs": [
    {
     "data": {
      "text/html": [
       "<div>\n",
       "<style scoped>\n",
       "    .dataframe tbody tr th:only-of-type {\n",
       "        vertical-align: middle;\n",
       "    }\n",
       "\n",
       "    .dataframe tbody tr th {\n",
       "        vertical-align: top;\n",
       "    }\n",
       "\n",
       "    .dataframe thead th {\n",
       "        text-align: right;\n",
       "    }\n",
       "</style>\n",
       "<table border=\"1\" class=\"dataframe\">\n",
       "  <thead>\n",
       "    <tr style=\"text-align: right;\">\n",
       "      <th></th>\n",
       "      <th>img_index</th>\n",
       "      <th>labels</th>\n",
       "      <th>follow_up</th>\n",
       "      <th>pa_id</th>\n",
       "      <th>pa_age</th>\n",
       "      <th>pa_gender</th>\n",
       "      <th>view_position</th>\n",
       "      <th>OriginalImage[Width</th>\n",
       "      <th>Height]</th>\n",
       "      <th>OriginalImagePixelSpacing[x</th>\n",
       "      <th>y]</th>\n",
       "    </tr>\n",
       "  </thead>\n",
       "  <tbody>\n",
       "    <tr>\n",
       "      <th>0</th>\n",
       "      <td>00000001_000.png</td>\n",
       "      <td>Cardiomegaly</td>\n",
       "      <td>0</td>\n",
       "      <td>1</td>\n",
       "      <td>57</td>\n",
       "      <td>M</td>\n",
       "      <td>PA</td>\n",
       "      <td>2682</td>\n",
       "      <td>2749</td>\n",
       "      <td>0.143</td>\n",
       "      <td>0.143</td>\n",
       "    </tr>\n",
       "    <tr>\n",
       "      <th>21</th>\n",
       "      <td>00000006_000.png</td>\n",
       "      <td>No Finding</td>\n",
       "      <td>0</td>\n",
       "      <td>6</td>\n",
       "      <td>81</td>\n",
       "      <td>M</td>\n",
       "      <td>PA</td>\n",
       "      <td>2500</td>\n",
       "      <td>2048</td>\n",
       "      <td>0.168</td>\n",
       "      <td>0.168</td>\n",
       "    </tr>\n",
       "    <tr>\n",
       "      <th>22</th>\n",
       "      <td>00000007_000.png</td>\n",
       "      <td>No Finding</td>\n",
       "      <td>0</td>\n",
       "      <td>7</td>\n",
       "      <td>82</td>\n",
       "      <td>M</td>\n",
       "      <td>PA</td>\n",
       "      <td>2500</td>\n",
       "      <td>2048</td>\n",
       "      <td>0.168</td>\n",
       "      <td>0.168</td>\n",
       "    </tr>\n",
       "    <tr>\n",
       "      <th>26</th>\n",
       "      <td>00000009_000.png</td>\n",
       "      <td>Emphysema</td>\n",
       "      <td>0</td>\n",
       "      <td>9</td>\n",
       "      <td>72</td>\n",
       "      <td>M</td>\n",
       "      <td>PA</td>\n",
       "      <td>2992</td>\n",
       "      <td>2991</td>\n",
       "      <td>0.143</td>\n",
       "      <td>0.143</td>\n",
       "    </tr>\n",
       "    <tr>\n",
       "      <th>28</th>\n",
       "      <td>00000011_000.png</td>\n",
       "      <td>Effusion</td>\n",
       "      <td>0</td>\n",
       "      <td>11</td>\n",
       "      <td>74</td>\n",
       "      <td>M</td>\n",
       "      <td>PA</td>\n",
       "      <td>2638</td>\n",
       "      <td>2449</td>\n",
       "      <td>0.143</td>\n",
       "      <td>0.143</td>\n",
       "    </tr>\n",
       "  </tbody>\n",
       "</table>\n",
       "</div>"
      ],
      "text/plain": [
       "           img_index        labels  follow_up  pa_id  pa_age pa_gender  \\\n",
       "0   00000001_000.png  Cardiomegaly          0      1      57         M   \n",
       "21  00000006_000.png    No Finding          0      6      81         M   \n",
       "22  00000007_000.png    No Finding          0      7      82         M   \n",
       "26  00000009_000.png     Emphysema          0      9      72         M   \n",
       "28  00000011_000.png      Effusion          0     11      74         M   \n",
       "\n",
       "   view_position  OriginalImage[Width  Height]  OriginalImagePixelSpacing[x  \\\n",
       "0             PA                 2682     2749                        0.143   \n",
       "21            PA                 2500     2048                        0.168   \n",
       "22            PA                 2500     2048                        0.168   \n",
       "26            PA                 2992     2991                        0.143   \n",
       "28            PA                 2638     2449                        0.143   \n",
       "\n",
       "       y]  \n",
       "0   0.143  \n",
       "21  0.168  \n",
       "22  0.168  \n",
       "26  0.143  \n",
       "28  0.143  "
      ]
     },
     "execution_count": 217,
     "metadata": {},
     "output_type": "execute_result"
    }
   ],
   "source": [
    "df_val_img.head()"
   ]
  },
  {
   "cell_type": "code",
   "execution_count": 218,
   "metadata": {
    "scrolled": false
   },
   "outputs": [
    {
     "name": "stderr",
     "output_type": "stream",
     "text": [
      "/Users/neeharikasinha/opt/anaconda3/lib/python3.7/site-packages/pandas/core/indexing.py:844: SettingWithCopyWarning: \n",
      "A value is trying to be set on a copy of a slice from a DataFrame.\n",
      "Try using .loc[row_indexer,col_indexer] = value instead\n",
      "\n",
      "See the caveats in the documentation: https://pandas.pydata.org/pandas-docs/stable/user_guide/indexing.html#returning-a-view-versus-a-copy\n",
      "  self.obj[key] = _infer_fill_value(value)\n",
      "/Users/neeharikasinha/opt/anaconda3/lib/python3.7/site-packages/pandas/core/indexing.py:965: SettingWithCopyWarning: \n",
      "A value is trying to be set on a copy of a slice from a DataFrame.\n",
      "Try using .loc[row_indexer,col_indexer] = value instead\n",
      "\n",
      "See the caveats in the documentation: https://pandas.pydata.org/pandas-docs/stable/user_guide/indexing.html#returning-a-view-versus-a-copy\n",
      "  self.obj[item] = s\n"
     ]
    }
   ],
   "source": [
    "#assign 1 for 'No Finding' and 2 for 'Cardiomegaly'\n",
    "df_val_img.loc[df_val_img.labels.str.contains('No Finding'), 'marker'] = '1'\n",
    "\n",
    "df_val_img.loc[df_val_img.labels.str.contains('Cardiomegaly'), 'marker'] = '2'"
   ]
  },
  {
   "cell_type": "code",
   "execution_count": 219,
   "metadata": {},
   "outputs": [],
   "source": [
    "df_val_normal=df_val_img[df_val_img['marker'] == '1']"
   ]
  },
  {
   "cell_type": "code",
   "execution_count": 220,
   "metadata": {},
   "outputs": [],
   "source": [
    "df_val_cardiomegaly=df_val_img[df_val_img['marker'] == '2']"
   ]
  },
  {
   "cell_type": "code",
   "execution_count": 221,
   "metadata": {},
   "outputs": [
    {
     "name": "stdout",
     "output_type": "stream",
     "text": [
      "Number of raw images being validated: 15662\n"
     ]
    }
   ],
   "source": [
    "#number of raw images being validated\n",
    "print('Number of raw images being validated:',len(df_val_normal)+len(df_val_cardiomegaly))\n"
   ]
  },
  {
   "cell_type": "code",
   "execution_count": 222,
   "metadata": {
    "scrolled": true
   },
   "outputs": [
    {
     "data": {
      "text/plain": [
       "['00000007_000.png', '00000011_002.png']"
      ]
     },
     "execution_count": 222,
     "metadata": {},
     "output_type": "execute_result"
    }
   ],
   "source": [
    "#making list of images under normal\n",
    "val_normal_img_list = df_val_normal.img_index.tolist()\n",
    "val_normal_img_list[1:3]"
   ]
  },
  {
   "cell_type": "code",
   "execution_count": 223,
   "metadata": {
    "scrolled": true
   },
   "outputs": [
    {
     "data": {
      "text/plain": [
       "['00000038_000.png', '00000045_000.png']"
      ]
     },
     "execution_count": 223,
     "metadata": {},
     "output_type": "execute_result"
    }
   ],
   "source": [
    "#making list of images under cardiomegaly\n",
    "val_cardiomegaly_img_list = df_val_cardiomegaly.img_index.tolist()\n",
    "val_cardiomegaly_img_list[1:3]"
   ]
  },
  {
   "cell_type": "code",
   "execution_count": 224,
   "metadata": {},
   "outputs": [],
   "source": [
    "#moving images marked as normal from val_img to val_normal_img\n",
    "\n",
    "move_listfiles('/Users/neeharikasinha/Documents/datascience-course/Capstones/Chestxray-cardiomegaly3/val_img/','/Users/neeharikasinha/Documents/datascience-course/Capstones/Chestxray-cardiomegaly3/val_normal_img/',val_normal_img_list)"
   ]
  },
  {
   "cell_type": "code",
   "execution_count": 225,
   "metadata": {},
   "outputs": [],
   "source": [
    "#create folder val_cardiomegaly_img\n",
    "create_directory('/Users/neeharikasinha/Documents/datascience-course/Capstones/Chestxray-cardiomegaly3/val_cardiomegaly_img/')"
   ]
  },
  {
   "cell_type": "code",
   "execution_count": 226,
   "metadata": {
    "scrolled": true
   },
   "outputs": [],
   "source": [
    "#moving images marked as cardiomegaly from val_img to val_cardiomegaly_img\n",
    "\n",
    "move_listfiles('/Users/neeharikasinha/Documents/datascience-course/Capstones/Chestxray-cardiomegaly3/val_img/','/Users/neeharikasinha/Documents/datascience-course/Capstones/Chestxray-cardiomegaly3/val_cardiomegaly_img/',val_cardiomegaly_img_list)"
   ]
  },
  {
   "cell_type": "code",
   "execution_count": null,
   "metadata": {},
   "outputs": [],
   "source": []
  }
 ],
 "metadata": {
  "kernelspec": {
   "display_name": "Python 3",
   "language": "python",
   "name": "python3"
  },
  "language_info": {
   "codemirror_mode": {
    "name": "ipython",
    "version": 3
   },
   "file_extension": ".py",
   "mimetype": "text/x-python",
   "name": "python",
   "nbconvert_exporter": "python",
   "pygments_lexer": "ipython3",
   "version": "3.7.6"
  }
 },
 "nbformat": 4,
 "nbformat_minor": 4
}
